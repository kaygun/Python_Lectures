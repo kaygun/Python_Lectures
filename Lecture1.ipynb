{
 "cells": [
  {
   "cell_type": "markdown",
   "metadata": {},
   "source": [
    "# Python Lectures (1)\n",
    "\n",
    "## What is this?\n",
    "\n",
    "These lectures are `ipython` notebooks which you can download and play with. Parts of the notebook is text (like this part) written in a mark-up language called [markdown](\"http://daringfireball.net/projects/markdown/\").  Double click on this cell and see the markdown source.  To evaluate any cell (whether it is text or code), use `Shift+Enter`.\n",
    "\n",
    "In markdown you can write **bold** or *italic*, you can give links (as above). You can also do bullet lists:\n",
    "\n",
    "* This \n",
    "* This \n",
    "* and that\n",
    "\n",
    "and numbered lists\n",
    "\n",
    "1. This\n",
    "1. This\n",
    "1. and that\n",
    "\n",
    "But we are to write some python code.\n",
    "\n",
    "## What is so different about `python`?\n",
    "\n",
    "The workflow in a compiled language such as `java` or `c++` is like this:\n",
    "\n",
    "<img src=\"./Lecture1-graph1.png\">\n",
    "\n",
    "But the workflow in `python` (like any language with a REPL) is different:\n",
    "\n",
    "<img src=\"./Lecture1-graph2.png\">\n",
    "\n",
    "In short, it means when you run the `python` shell/interpreter and type anything at the prompt, you get an immediate response."
   ]
  },
  {
   "cell_type": "code",
   "execution_count": 1,
   "metadata": {
    "collapsed": false
   },
   "outputs": [
    {
     "name": "stdout",
     "output_type": "stream",
     "text": [
      "Hello world!\n"
     ]
    }
   ],
   "source": [
    "print(\"Hello world!\")"
   ]
  },
  {
   "cell_type": "markdown",
   "metadata": {},
   "source": [
    "Of course, you can do other things than printing greetings.  Below, we are going to write a small program which will calculate currency conversion given a fixed table of exchange rates.\n",
    "\n",
    "## Designing a program\n",
    "\n",
    "Before writing even a simplest of a program, one has to think a bit: What is the program supposed to do? are the inputs, and what are the outputs? Are there special cases? How is the user going to interact with the program? Where is this program going to run? How long?\n",
    "\n",
    "One of things I think about is separation of **front-ent** and **back-end**.\n",
    "\n",
    "<img src=\"./Lecture1-graph3.png\">\n",
    "\n",
    "The part where your program interacts with the user and the part where you perform the task should be separated clearly.  In the age of multiple platforms, you can not be sure how your users would interact with the program you are designing. Keep it flexible and separate back-end from front-end.\n",
    "\n",
    "## A small program calculating currency exchange\n",
    "\n",
    "First, let us start by thinking of design: what is the input and what will be the output?  How about?\n",
    "\n",
    "**Input**: 100 US EUR\n",
    "\n",
    "**Output**: 80 EUR\n",
    "\n",
    "In other words, I will enter the amount of money I have followed by the type, and finally the currency I want to convert. The exchange rate should be given before we do the calculation.  Let us enumerate the steps we need to perform the task:\n",
    "\n",
    "1. Ask the user for the amount, type of the currency we have and the type of the currency we want to exchange to\n",
    "2. Read the exchange table.\n",
    "3. Multiply the amount with the current rate.\n",
    "\n",
    "For the calculation above, the rate between US and EUR was 1 US was worth of 0.8 EUR."
   ]
  },
  {
   "cell_type": "code",
   "execution_count": 17,
   "metadata": {
    "collapsed": false
   },
   "outputs": [
    {
     "data": {
      "text/plain": [
       "80.0"
      ]
     },
     "execution_count": 17,
     "metadata": {},
     "output_type": "execute_result"
    }
   ],
   "source": [
    "amount = 100\n",
    "rate = 0.8\n",
    "exchange = amount * rate\n",
    "\n",
    "exchange"
   ]
  },
  {
   "cell_type": "markdown",
   "metadata": {},
   "source": [
    "For those who are new to programming, what I have above are three storage units (they are called *variables*) `amount`, `rate` and `exchange`. The first variable contains the number `100`, the second `0.8` and the finally the third contains the product of the values stored in `amount` and `rate`.  If you are coming from `java` or `C++` to `python` you must remember that in `python` the variables don't have *types*. I can store a string in any of these variables, and `python` interpreter is not going to complain :)"
   ]
  },
  {
   "cell_type": "code",
   "execution_count": 18,
   "metadata": {
    "collapsed": false
   },
   "outputs": [],
   "source": [
    "amount = \"aksdjlkasdjlaksdja\""
   ]
  },
  {
   "cell_type": "markdown",
   "metadata": {},
   "source": [
    "Also, what I did above falls very far from what I wanted to do at the very beginning. I explicitly provided the exchange rate.  But, let us play along anyway. \n",
    "\n",
    "Now, assume I want to exchange 250 US. In that case:"
   ]
  },
  {
   "cell_type": "code",
   "execution_count": 20,
   "metadata": {
    "collapsed": false
   },
   "outputs": [
    {
     "data": {
      "text/plain": [
       "80.0"
      ]
     },
     "execution_count": 20,
     "metadata": {},
     "output_type": "execute_result"
    }
   ],
   "source": [
    "amount = 250\n",
    "exchange"
   ]
  },
  {
   "cell_type": "markdown",
   "metadata": {},
   "source": [
    "Hmmmm.... What you see here is a lesson you must remember: variables are *temporal*. They represent computation at a specific time. When you change the value of a variable, the other calculations you performed earlier with the previous value stored in the variable **ARE NOT GOING TO CHANGE**.  I must repeat the calculation:"
   ]
  },
  {
   "cell_type": "code",
   "execution_count": 21,
   "metadata": {
    "collapsed": false
   },
   "outputs": [
    {
     "data": {
      "text/plain": [
       "200.0"
      ]
     },
     "execution_count": 21,
     "metadata": {},
     "output_type": "execute_result"
    }
   ],
   "source": [
    "amount = 250\n",
    "exchange = amount * rate\n",
    "\n",
    "exchange"
   ]
  },
  {
   "cell_type": "markdown",
   "metadata": {},
   "source": [
    "It is rather stupid to do the calculation this way. Do I have to change these variables and repeat the calculation over and over again?  No!  What do we do above? We have two numbers, one stored in `amount` and the other in `exchange` and we multiply them. I need a function which takes 2 inputs and returns their product."
   ]
  },
  {
   "cell_type": "code",
   "execution_count": 22,
   "metadata": {
    "collapsed": false
   },
   "outputs": [],
   "source": [
    "def Exchange(amount, rate):\n",
    "    return(amount * rate)"
   ]
  },
  {
   "cell_type": "markdown",
   "metadata": {},
   "source": [
    "Now, that we defined the function let us call it and see the result:"
   ]
  },
  {
   "cell_type": "code",
   "execution_count": 23,
   "metadata": {
    "collapsed": false
   },
   "outputs": [
    {
     "name": "stdout",
     "output_type": "stream",
     "text": [
      "200.0\n",
      "800.0\n"
     ]
    }
   ],
   "source": [
    "print(Exchange(250,0.8))\n",
    "print(Exchange(1000,0.8))"
   ]
  },
  {
   "cell_type": "markdown",
   "metadata": {},
   "source": [
    "But, this is not what I wanted to do. The function should have taken 3 things: the amount, the type of the currency and the exchange currency as `Exchange(1000,\"US\",\"EUR\")`.  But in order to do this, I will need a different kind of variable.\n",
    "\n",
    "## Containers\n",
    "\n",
    "A *container* is a variable which contains more than one places to store values of the same or different type.  There are three basic kinds of containers:\n",
    "\n",
    "* Arrays\n",
    "* Maps (or Dictionaries)\n",
    "* Lists\n",
    "\n",
    "The difference arises in the way we access the values we stored in these containers.\n",
    "\n",
    "* In arrays the positions are marked by integers\n",
    "* In maps, the positions have names.\n",
    "* In lists, the positions are not numbered. You can only access the storage next to you. (I'll explain later.)\n",
    "\n",
    "For example:"
   ]
  },
  {
   "cell_type": "code",
   "execution_count": 8,
   "metadata": {
    "collapsed": false
   },
   "outputs": [],
   "source": [
    "A = [250.0, 400.0, 300.0, 1200.0]"
   ]
  },
  {
   "cell_type": "markdown",
   "metadata": {},
   "source": [
    "The variable `A` is an array of length 4. For example, the third position contains the value `250.0` etc. And we access it via"
   ]
  },
  {
   "cell_type": "code",
   "execution_count": 24,
   "metadata": {
    "collapsed": false
   },
   "outputs": [
    {
     "data": {
      "text/plain": [
       "300.0"
      ]
     },
     "execution_count": 24,
     "metadata": {},
     "output_type": "execute_result"
    }
   ],
   "source": [
    "A[2]"
   ]
  },
  {
   "cell_type": "markdown",
   "metadata": {},
   "source": [
    "Wait a minute... I said, the third position but I used `A[2]`. Why? Because in python the counting starts at 0."
   ]
  },
  {
   "cell_type": "code",
   "execution_count": 10,
   "metadata": {
    "collapsed": false
   },
   "outputs": [
    {
     "name": "stdout",
     "output_type": "stream",
     "text": [
      "250.0\n",
      "400.0\n",
      "300.0\n",
      "1200.0\n"
     ]
    }
   ],
   "source": [
    "print(A[0])\n",
    "print(A[1])\n",
    "print(A[2])\n",
    "print(A[3])"
   ]
  },
  {
   "cell_type": "markdown",
   "metadata": {},
   "source": [
    "For a map we have:"
   ]
  },
  {
   "cell_type": "code",
   "execution_count": 11,
   "metadata": {
    "collapsed": false
   },
   "outputs": [],
   "source": [
    "Rates = {\"US\": 1.0, \"EUR\": 0.8, \"TRY\": 2.24, \"BITCOIN\": 0.0026}"
   ]
  },
  {
   "cell_type": "markdown",
   "metadata": {},
   "source": [
    "And we access the contents via"
   ]
  },
  {
   "cell_type": "code",
   "execution_count": 25,
   "metadata": {
    "collapsed": false
   },
   "outputs": [
    {
     "data": {
      "text/plain": [
       "0.8"
      ]
     },
     "execution_count": 25,
     "metadata": {},
     "output_type": "execute_result"
    }
   ],
   "source": [
    "Rates[\"EUR\"]"
   ]
  },
  {
   "cell_type": "markdown",
   "metadata": {},
   "source": [
    "Now, notice that the syntax for calling a function and accessing a place in an array or a map are similar. For function calls we use `NAME(parameter-1, ..., parameter-n)` and for containers we use `NAME[position]`.\n",
    "\n",
    "## Going back to the program\n",
    "\n",
    "Now, I can modify my exchange function as follows:"
   ]
  },
  {
   "cell_type": "code",
   "execution_count": 26,
   "metadata": {
    "collapsed": false
   },
   "outputs": [],
   "source": [
    "Rates = {\"US\": 1.0, \"EUR\": 0.8, \"TRY\": 2.24, \"BITCOIN\": 0.0026}\n",
    "\n",
    "def Exchange(amount, currency):\n",
    "    return(amount * Rates[currency])"
   ]
  },
  {
   "cell_type": "markdown",
   "metadata": {},
   "source": [
    "And now, I can make the following call:"
   ]
  },
  {
   "cell_type": "code",
   "execution_count": 27,
   "metadata": {
    "collapsed": false
   },
   "outputs": [
    {
     "name": "stdout",
     "output_type": "stream",
     "text": [
      "80.0\n"
     ]
    }
   ],
   "source": [
    "print(Exchange(100,\"EUR\"))"
   ]
  },
  {
   "cell_type": "markdown",
   "metadata": {},
   "source": [
    "This is *still* not what I want. I want to specify the source currency and the target currency. From \"US\" to \"EUR\" for example."
   ]
  },
  {
   "cell_type": "code",
   "execution_count": 28,
   "metadata": {
    "collapsed": false
   },
   "outputs": [
    {
     "name": "stdout",
     "output_type": "stream",
     "text": [
      "80.0\n",
      "280.0\n",
      "0.26\n"
     ]
    }
   ],
   "source": [
    "def Exchange(amount, source, target):\n",
    "    return(amount * Rates[target]/Rates[source])\n",
    "\n",
    "print(Exchange(100, \"US\", \"EUR\"))\n",
    "print(Exchange(100, \"EUR\", \"TRY\"))\n",
    "print(Exchange(100, \"US\", \"BITCOIN\"))"
   ]
  },
  {
   "cell_type": "markdown",
   "metadata": {},
   "source": [
    "This is exactly what I want my back-end to do. There are still important rough edges: for example, what if the function is sent currencies that are not in the exchange table?  What if we accidentally set the rate for the source currency as 0, i.e. what if we divide by 0 etc?\n",
    "\n",
    "<img src=\"Lecture1-threat-vector.jpg\">\n",
    "\n",
    "Now, what remains is to design the front-end so that the user interacts with the back-end I just designed."
   ]
  },
  {
   "cell_type": "markdown",
   "metadata": {},
   "source": [
    "## Designing an interface\n",
    "\n",
    "Let us start very simply: on the command prompt, we'll ask the user to enter these values one by one."
   ]
  },
  {
   "cell_type": "code",
   "execution_count": 32,
   "metadata": {
    "collapsed": false
   },
   "outputs": [
    {
     "name": "stdout",
     "output_type": "stream",
     "text": [
      "Enter amount: 200\n",
      "Enter the source currency: US\n",
      "Enter the target currency: BITCOIN\n"
     ]
    },
    {
     "ename": "TypeError",
     "evalue": "can't multiply sequence by non-int of type 'float'",
     "output_type": "error",
     "traceback": [
      "\u001b[0;31m---------------------------------------------------------------------------\u001b[0m",
      "\u001b[0;31mTypeError\u001b[0m                                 Traceback (most recent call last)",
      "\u001b[0;32m<ipython-input-32-4939f6aff784>\u001b[0m in \u001b[0;36m<module>\u001b[0;34m()\u001b[0m\n\u001b[1;32m      3\u001b[0m \u001b[0mtarget\u001b[0m \u001b[0;34m=\u001b[0m \u001b[0minput\u001b[0m\u001b[0;34m(\u001b[0m\u001b[0;34m\"Enter the target currency: \"\u001b[0m\u001b[0;34m)\u001b[0m\u001b[0;34m\u001b[0m\u001b[0m\n\u001b[1;32m      4\u001b[0m \u001b[0;34m\u001b[0m\u001b[0m\n\u001b[0;32m----> 5\u001b[0;31m \u001b[0mprint\u001b[0m\u001b[0;34m(\u001b[0m\u001b[0mExchange\u001b[0m\u001b[0;34m(\u001b[0m\u001b[0mamount\u001b[0m\u001b[0;34m,\u001b[0m\u001b[0msource\u001b[0m\u001b[0;34m,\u001b[0m\u001b[0mtarget\u001b[0m\u001b[0;34m)\u001b[0m\u001b[0;34m)\u001b[0m\u001b[0;34m\u001b[0m\u001b[0m\n\u001b[0m",
      "\u001b[0;32m<ipython-input-28-a1040c4736a1>\u001b[0m in \u001b[0;36mExchange\u001b[0;34m(amount, source, target)\u001b[0m\n\u001b[1;32m      1\u001b[0m \u001b[0;32mdef\u001b[0m \u001b[0mExchange\u001b[0m\u001b[0;34m(\u001b[0m\u001b[0mamount\u001b[0m\u001b[0;34m,\u001b[0m \u001b[0msource\u001b[0m\u001b[0;34m,\u001b[0m \u001b[0mtarget\u001b[0m\u001b[0;34m)\u001b[0m\u001b[0;34m:\u001b[0m\u001b[0;34m\u001b[0m\u001b[0m\n\u001b[0;32m----> 2\u001b[0;31m     \u001b[0;32mreturn\u001b[0m\u001b[0;34m(\u001b[0m\u001b[0mamount\u001b[0m \u001b[0;34m*\u001b[0m \u001b[0mRates\u001b[0m\u001b[0;34m[\u001b[0m\u001b[0mtarget\u001b[0m\u001b[0;34m]\u001b[0m\u001b[0;34m/\u001b[0m\u001b[0mRates\u001b[0m\u001b[0;34m[\u001b[0m\u001b[0msource\u001b[0m\u001b[0;34m]\u001b[0m\u001b[0;34m)\u001b[0m\u001b[0;34m\u001b[0m\u001b[0m\n\u001b[0m\u001b[1;32m      3\u001b[0m \u001b[0;34m\u001b[0m\u001b[0m\n\u001b[1;32m      4\u001b[0m \u001b[0mprint\u001b[0m\u001b[0;34m(\u001b[0m\u001b[0mExchange\u001b[0m\u001b[0;34m(\u001b[0m\u001b[0;36m100\u001b[0m\u001b[0;34m,\u001b[0m \u001b[0;34m\"US\"\u001b[0m\u001b[0;34m,\u001b[0m \u001b[0;34m\"EUR\"\u001b[0m\u001b[0;34m)\u001b[0m\u001b[0;34m)\u001b[0m\u001b[0;34m\u001b[0m\u001b[0m\n\u001b[1;32m      5\u001b[0m \u001b[0mprint\u001b[0m\u001b[0;34m(\u001b[0m\u001b[0mExchange\u001b[0m\u001b[0;34m(\u001b[0m\u001b[0;36m100\u001b[0m\u001b[0;34m,\u001b[0m \u001b[0;34m\"EUR\"\u001b[0m\u001b[0;34m,\u001b[0m \u001b[0;34m\"TRY\"\u001b[0m\u001b[0;34m)\u001b[0m\u001b[0;34m)\u001b[0m\u001b[0;34m\u001b[0m\u001b[0m\n",
      "\u001b[0;31mTypeError\u001b[0m: can't multiply sequence by non-int of type 'float'"
     ]
    }
   ],
   "source": [
    "amount = input(\"Enter amount: \")\n",
    "source = input(\"Enter the source currency: \")\n",
    "target = input(\"Enter the target currency: \")\n",
    "\n",
    "print(Exchange(amount,source,target))"
   ]
  },
  {
   "cell_type": "markdown",
   "metadata": {},
   "source": [
    "What happened? Well, I did not mention something important. The values in `python` all have *types*. A value can be one of\n",
    "\n",
    "* A String such as \"123\" or \"this is a sentence\"\n",
    "* A character such as 'x'\n",
    "* An Integer such as '123'\n",
    "* A Floating Point Number '123.0'\n",
    "* Or a container (which I covered above)\n",
    "\n",
    "So, there is an important difference between `\"100\"` and `100`.  The first is a string which consists of 3 characters, while the second is an integer.  Even `100.0` is different than these two.  So, we must convert the string `\"100\"` to an integer or a floating point number."
   ]
  },
  {
   "cell_type": "code",
   "execution_count": 33,
   "metadata": {
    "collapsed": false
   },
   "outputs": [
    {
     "name": "stdout",
     "output_type": "stream",
     "text": [
      "Enter amount: 100\n",
      "Enter the source currency: US\n",
      "Enter the target currency: TRY\n",
      "224.00000000000003\n"
     ]
    }
   ],
   "source": [
    "amount = float(input(\"Enter amount: \"))\n",
    "source = input(\"Enter the source currency: \")\n",
    "target = input(\"Enter the target currency: \")\n",
    "\n",
    "print(Exchange(amount,source,target))"
   ]
  },
  {
   "cell_type": "code",
   "execution_count": null,
   "metadata": {
    "collapsed": false
   },
   "outputs": [],
   "source": []
  }
 ],
 "metadata": {
  "kernelspec": {
   "display_name": "Python 3",
   "language": "python",
   "name": "python3"
  },
  "language_info": {
   "codemirror_mode": {
    "name": "ipython",
    "version": 3
   },
   "file_extension": ".py",
   "mimetype": "text/x-python",
   "name": "python",
   "nbconvert_exporter": "python",
   "pygments_lexer": "ipython3",
   "version": "3.5.4"
  }
 },
 "nbformat": 4,
 "nbformat_minor": 0
}

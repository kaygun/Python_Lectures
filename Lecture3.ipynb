{
 "metadata": {
  "name": "",
  "signature": "sha256:80a077c9cc0da301d4d8e86630b37a80c1319ecd3c54493b3718e81e4d8c60b3"
 },
 "nbformat": 3,
 "nbformat_minor": 0,
 "worksheets": [
  {
   "cells": [
    {
     "cell_type": "markdown",
     "metadata": {},
     "source": [
      "# Python Lectures (3)\n",
      "\n",
      "## Back to basics: types and operations\n",
      "\n",
      "Today, I am going to back to basics:\n",
      "\n",
      "We have basic types for values:\n",
      "\n",
      "* Numbers\n",
      "  * Integers \n",
      "  * Floating point numbers\n",
      "* Characters\n",
      "* Strings\n",
      "\n",
      "and some container types\n",
      "\n",
      "* Arrays\n",
      "* Maps/Dictionaries\n",
      "* Lists\n",
      "\n",
      "Each of these types have their own specific operations associated with them.\n",
      "\n",
      "### Arrays"
     ]
    },
    {
     "cell_type": "code",
     "collapsed": false,
     "input": [
      "A = [1,4,2,3,5,1,2,3,4]\n",
      "B = [7,6,3,4,5,7]\n",
      "A + B"
     ],
     "language": "python",
     "metadata": {},
     "outputs": [
      {
       "metadata": {},
       "output_type": "pyout",
       "prompt_number": 20,
       "text": [
        "[1, 4, 2, 3, 5, 1, 2, 3, 4, 7, 6, 3, 4, 5, 7]"
       ]
      }
     ],
     "prompt_number": 20
    },
    {
     "cell_type": "code",
     "collapsed": false,
     "input": [
      "A[1]"
     ],
     "language": "python",
     "metadata": {},
     "outputs": [
      {
       "metadata": {},
       "output_type": "pyout",
       "prompt_number": 37,
       "text": [
        "4"
       ]
      }
     ],
     "prompt_number": 37
    },
    {
     "cell_type": "markdown",
     "metadata": {},
     "source": [
      "### Sets"
     ]
    },
    {
     "cell_type": "code",
     "collapsed": false,
     "input": [
      "U = {0, 1.2, 3, \"a\"}\n",
      "V = {\"c\", -2, 10.1, 1}\n",
      "print(U.union(V))\n",
      "print(U.intersection(V))"
     ],
     "language": "python",
     "metadata": {},
     "outputs": [
      {
       "output_type": "stream",
       "stream": "stdout",
       "text": [
        "set(['a', 0, 'c', 3, 1, 10.1, 1.2, -2])\n",
        "set([])\n"
       ]
      }
     ],
     "prompt_number": 1
    },
    {
     "cell_type": "markdown",
     "metadata": {},
     "source": [
      "### Dictionaries"
     ]
    },
    {
     "cell_type": "code",
     "collapsed": false,
     "input": [
      "X = {\"a\": 1, \"b\": 2}\n",
      "Y = {\"c\": 3, \"d\": 4}\n",
      "X.update(Y)\n",
      "print(X)\n",
      "print(X[\"d\"])"
     ],
     "language": "python",
     "metadata": {},
     "outputs": [
      {
       "output_type": "stream",
       "stream": "stdout",
       "text": [
        "{'a': 1, 'c': 3, 'b': 2, 'd': 4}\n",
        "4\n"
       ]
      }
     ],
     "prompt_number": 38
    },
    {
     "cell_type": "markdown",
     "metadata": {},
     "source": [
      "### Tuples"
     ]
    },
    {
     "cell_type": "code",
     "collapsed": false,
     "input": [
      "U = (1,2,3)\n",
      "V = (5,6,4)\n",
      "U+V"
     ],
     "language": "python",
     "metadata": {},
     "outputs": [
      {
       "metadata": {},
       "output_type": "pyout",
       "prompt_number": 22,
       "text": [
        "(1, 2, 3, 5, 6, 4)"
       ]
      }
     ],
     "prompt_number": 22
    },
    {
     "cell_type": "markdown",
     "metadata": {},
     "source": [
      "## Filters, maps and reductions\n",
      "\n",
      "Comprehension and is a common pythonic idiom we use to collect objects in a specific container:"
     ]
    },
    {
     "cell_type": "code",
     "collapsed": false,
     "input": [
      "[ -1 if(i%2==0) else 1 for i in range(10)]"
     ],
     "language": "python",
     "metadata": {},
     "outputs": [
      {
       "metadata": {},
       "output_type": "pyout",
       "prompt_number": 33,
       "text": [
        "[-1, 1, -1, 1, -1, 1, -1, 1, -1, 1]"
       ]
      }
     ],
     "prompt_number": 33
    },
    {
     "cell_type": "markdown",
     "metadata": {},
     "source": [
      "But there is another way of producing the same effect.  Say, you have a collection and you'd like to apply a function to that collection and collect the result:"
     ]
    },
    {
     "cell_type": "code",
     "collapsed": false,
     "input": [
      "def fn(x):\n",
      "    return((-1)**x)\n",
      "        \n",
      "map(fn, range(20))"
     ],
     "language": "python",
     "metadata": {},
     "outputs": [
      {
       "metadata": {},
       "output_type": "pyout",
       "prompt_number": 59,
       "text": [
        "[1, -1, 1, -1, 1, -1, 1, -1, 1, -1, 1, -1, 1, -1, 1, -1, 1, -1, 1, -1]"
       ]
      }
     ],
     "prompt_number": 59
    },
    {
     "cell_type": "markdown",
     "metadata": {},
     "source": [
      "But, we didn't have to define a separate function for this purpose, we can define it *inline* right there we call `map`:"
     ]
    },
    {
     "cell_type": "code",
     "collapsed": false,
     "input": [
      "map(lambda x: (-1)**x, range(20))"
     ],
     "language": "python",
     "metadata": {},
     "outputs": [
      {
       "metadata": {},
       "output_type": "pyout",
       "prompt_number": 60,
       "text": [
        "[1, -1, 1, -1, 1, -1, 1, -1, 1, -1, 1, -1, 1, -1, 1, -1, 1, -1, 1, -1]"
       ]
      }
     ],
     "prompt_number": 60
    },
    {
     "cell_type": "markdown",
     "metadata": {},
     "source": [
      "You can also filter the contents of a container using a propositional function.  Python has a construct called *anonymous functions* which are functions without names."
     ]
    },
    {
     "cell_type": "code",
     "collapsed": false,
     "input": [
      "filter(lambda x: x%2==0 and x>3, range(10))"
     ],
     "language": "python",
     "metadata": {},
     "outputs": [
      {
       "metadata": {},
       "output_type": "pyout",
       "prompt_number": 36,
       "text": [
        "[4, 6, 8]"
       ]
      }
     ],
     "prompt_number": 36
    },
    {
     "cell_type": "markdown",
     "metadata": {},
     "source": [
      "## Another application\n",
      "\n",
      "Today, I am going to give a set of *unstructured* (less than JSON or XML, but more than plain text) data.  You can download it from [here](http://download.geonames.org/export/zip/TR.zip). Unzip the file in where you keep this notebook.\n",
      "\n",
      "The data consists of the postal codes in Turkey, and is in [comma seperated values (CSV)](http://en.wikipedia.org/wiki/Comma-separated_values) format.  And of course, there is a python library for that :)"
     ]
    },
    {
     "cell_type": "code",
     "collapsed": false,
     "input": [
      "import csv\n",
      "\n",
      "data = open(\"TR.txt\",'r')\n",
      "dataReader = csv.reader(data, delimiter=\"\\t\")\n",
      "raw = [x for x in dataReader]\n",
      "print(raw[1])\n",
      "data.close()"
     ],
     "language": "python",
     "metadata": {},
     "outputs": [
      {
       "output_type": "stream",
       "stream": "stdout",
       "text": [
        "['TR', '02700', 'Bur\\xc3\\xa7akli', 'Adiyaman', '02', 'Gerger', '8631677', '', '', '38.0283', '38.9567', '4']\n"
       ]
      }
     ],
     "prompt_number": 38
    },
    {
     "cell_type": "markdown",
     "metadata": {},
     "source": [
      "The data is separated into columns. The relevant columns for us are the 2nd (the Zip Code,) the 3rd (\"mahalle\") the 4th (\"il\") and 5th (\"ilce\"). I am going to create a table for reverse lookup: given the zip code, where does it belong to?"
     ]
    },
    {
     "cell_type": "code",
     "collapsed": false,
     "input": [
      "reverseLookup = {x[1]: [x[2],x[3],x[5]] for x in raw}\n",
      "\n",
      "def getDistrict(zip):\n",
      "    y = reverseLookup[zip]\n",
      "    print y[1], y[2], y[0]\n",
      "    \n",
      "getDistrict('34353')"
     ],
     "language": "python",
     "metadata": {},
     "outputs": [
      {
       "output_type": "stream",
       "stream": "stdout",
       "text": [
        "\u0130stanbul Be\u015fikta\u015f Abbasa\u011fa\n"
       ]
      }
     ],
     "prompt_number": 44
    },
    {
     "cell_type": "markdown",
     "metadata": {},
     "source": [
      "But, I would really like the lookup to work in the other direction. That is, I'd like to give the district and get all neighborhoods with all of the zip codes.  For that I am going to need nested dictionaries:"
     ]
    },
    {
     "cell_type": "code",
     "collapsed": false,
     "input": [
      "lookup = {}\n",
      "\n",
      "for x in raw:\n",
      "    try:\n",
      "        temp1 = lookup[x[3]]\n",
      "        try:\n",
      "            temp2 = temp1[x[5]]\n",
      "            temp2.update({x[2]: x[1]})\n",
      "        except:\n",
      "            temp1.update({x[5]: {x[2]: x[1]}})\n",
      "    except:\n",
      "        lookup.update({x[3]: {x[5]: {x[2]: x[1]}}})\n",
      "        \n",
      "for i in lookup['\u0130stanbul']['Be\u015fikta\u015f'].keys():\n",
      "    print \"{:<12}\\t{:<5}\".format(i, lookup['\u0130stanbul']['Be\u015fikta\u015f'][i])"
     ],
     "language": "python",
     "metadata": {},
     "outputs": [
      {
       "output_type": "stream",
       "stream": "stdout",
       "text": [
        "Abbasa\u011fa   \t34353\n",
        "Levazim     \t34340\n",
        "Levent      \t34330\n",
        "Akatlar     \t34335\n",
        "Gayrettepe  \t34349\n",
        "Arnavutk\u00f6y \t34345\n",
        "T\u00fcrkali    \t34357\n",
        "Ortak\u00f6y    \t34347\n",
        "Bebek       \t34342\n",
        "Etiler      \t34337\n"
       ]
      }
     ],
     "prompt_number": 56
    },
    {
     "cell_type": "markdown",
     "metadata": {},
     "source": [
      "## A finished version\n",
      "\n",
      "Again, I will give you a finished version that I will use on the command line:\n",
      "\n",
      "    #!/usr/bin/python\n",
      "\n",
      "    ## Backend\n",
      "\n",
      "    import csv\n",
      "\n",
      "    FILE = \"/home/kaygun/local/lib/TR.txt\"\n",
      "\n",
      "    data = open(FILE,'r')\n",
      "    dataReader = csv.reader(data, delimiter=\"\\t\")\n",
      "    raw = [x for x in dataReader]\n",
      "    data.close()\n",
      "        \n",
      "    reverseLookup = {x[1].strip(\" \"): map(lambda x: x.strip(\" \\t\"), [x[2],x[3],x[5]]) for x in raw}\n",
      "        \n",
      "    def getDistrict(zip):\n",
      "        y = map(lambda x: x.strip(\" \"), reverseLookup[zip])\n",
      "        print \"{:<12} {:<12} {:<12}\".format(y[1],y[2],y[0])\n",
      "\n",
      "    lookupData = {}\n",
      "\n",
      "    for x in raw:\n",
      "        try:\n",
      "            temp1 = lookupData[x[3]]\n",
      "            try:\n",
      "                temp2 = temp1[x[5]]\n",
      "                temp2.update({x[2]: x[1]})\n",
      "            except:\n",
      "                temp1.update({x[5]: {x[2]: x[1]}})\n",
      "        except:\n",
      "            lookupData.update({x[3]: {x[5]: {x[2]: x[1]}}})\n",
      "\n",
      "    def getZipCode(a,b):\n",
      "        if b == \"\":\n",
      "           for j in lookupData[a].keys():\n",
      "               print \"{:<12}\".format(j)\n",
      "               for i in lookupData[a][j].keys():\n",
      "                   print \" \"*12,\n",
      "                   print \"{:<11} \\t {:<5}\".format(i, lookupData[a][j][i])\n",
      "        else:\n",
      "             for i in lookupData[a][b].keys():\n",
      "                 print \"{:<11} \\t {:<5}\".format(i, lookupData[a][b][i])\n",
      "                 \n",
      "                 \n",
      "    ## Front end\n",
      "\n",
      "    import sys\n",
      "\n",
      "    n = len(sys.argv)\n",
      "\n",
      "    if n < 3:\n",
      "       print \"error\"\n",
      "       exit\n",
      "    elif sys.argv[1] == \"reverse\":\n",
      "       getDistrict(sys.argv[2])\n",
      "    elif sys.argv[1] == \"zip\":\n",
      "       if n == 3:\n",
      "          getZipCode(sys.argv[2],\"\")\n",
      "       else:\n",
      "          getZipCode(sys.argv[2],sys.argv[3])"
     ]
    },
    {
     "cell_type": "markdown",
     "metadata": {},
     "source": [
      "## A homework\n",
      "\n",
      "You can download IETT busline information from [here](iettbus.json). The data is in [JSON](http://en.wikipedia.org/wiki/JSON) format. Until next time, look at the data, try to understand it and come up with ideas as to what we can do.  We'll discuss."
     ]
    }
   ],
   "metadata": {}
  }
 ]
}
{
 "cells": [
  {
   "cell_type": "markdown",
   "metadata": {
    "deletable": true,
    "editable": true
   },
   "source": [
    "# Python Lectures (3)\n",
    "\n",
    "## Back to basics: types and operations\n",
    "\n",
    "Today, I am going to back to basics:\n",
    "\n",
    "We have basic types for values:\n",
    "\n",
    "* Numbers\n",
    "  * Integers \n",
    "  * Floating point numbers\n",
    "* Characters\n",
    "* Strings\n",
    "\n",
    "and some container types\n",
    "\n",
    "* Arrays\n",
    "* Maps/Dictionaries\n",
    "* Lists\n",
    "\n",
    "Each of these types have their own specific operations associated with them.\n",
    "\n",
    "### Arrays"
   ]
  },
  {
   "cell_type": "code",
   "execution_count": 1,
   "metadata": {
    "collapsed": false,
    "deletable": true,
    "editable": true
   },
   "outputs": [
    {
     "data": {
      "text/plain": [
       "[1, 4, 2, 3, 5, 1, 2, 3, 4, 7, 6, 3, 4, 5, 7]"
      ]
     },
     "execution_count": 1,
     "metadata": {},
     "output_type": "execute_result"
    }
   ],
   "source": [
    "A = [1,4,2,3,5,1,2,3,4]\n",
    "B = [7,6,3,4,5,7]\n",
    "A + B"
   ]
  },
  {
   "cell_type": "code",
   "execution_count": 2,
   "metadata": {
    "collapsed": false,
    "deletable": true,
    "editable": true
   },
   "outputs": [
    {
     "data": {
      "text/plain": [
       "4"
      ]
     },
     "execution_count": 2,
     "metadata": {},
     "output_type": "execute_result"
    }
   ],
   "source": [
    "A[1]"
   ]
  },
  {
   "cell_type": "markdown",
   "metadata": {
    "deletable": true,
    "editable": true
   },
   "source": [
    "### Sets"
   ]
  },
  {
   "cell_type": "code",
   "execution_count": 3,
   "metadata": {
    "collapsed": false,
    "deletable": true,
    "editable": true
   },
   "outputs": [
    {
     "name": "stdout",
     "output_type": "stream",
     "text": [
      "{0, 1.2, 1, 3, 'c', 'a', 10.1, -2}\n",
      "set()\n"
     ]
    }
   ],
   "source": [
    "U = {0, 1.2, 3, \"a\"}\n",
    "V = {\"c\", -2, 10.1, 1}\n",
    "print(U.union(V))\n",
    "print(U.intersection(V))"
   ]
  },
  {
   "cell_type": "markdown",
   "metadata": {
    "deletable": true,
    "editable": true
   },
   "source": [
    "### Dictionaries"
   ]
  },
  {
   "cell_type": "code",
   "execution_count": 4,
   "metadata": {
    "collapsed": false,
    "deletable": true,
    "editable": true
   },
   "outputs": [
    {
     "name": "stdout",
     "output_type": "stream",
     "text": [
      "{'b': 2, 'c': 3, 'a': 1, 'd': 4}\n",
      "4\n"
     ]
    }
   ],
   "source": [
    "X = {\"a\": 1, \"b\": 2}\n",
    "Y = {\"c\": 3, \"d\": 4}\n",
    "X.update(Y)\n",
    "print(X)\n",
    "print(X[\"d\"])"
   ]
  },
  {
   "cell_type": "markdown",
   "metadata": {
    "deletable": true,
    "editable": true
   },
   "source": [
    "### Tuples"
   ]
  },
  {
   "cell_type": "code",
   "execution_count": 5,
   "metadata": {
    "collapsed": false,
    "deletable": true,
    "editable": true
   },
   "outputs": [
    {
     "data": {
      "text/plain": [
       "(1, 2, 3, 5, 6, 4)"
      ]
     },
     "execution_count": 5,
     "metadata": {},
     "output_type": "execute_result"
    }
   ],
   "source": [
    "U = (1,2,3)\n",
    "V = (5,6,4)\n",
    "U+V"
   ]
  },
  {
   "cell_type": "markdown",
   "metadata": {
    "deletable": true,
    "editable": true
   },
   "source": [
    "## Filters, maps and reductions\n",
    "\n",
    "Comprehension is a common pythonic idiom we use to collect objects in a specific container:"
   ]
  },
  {
   "cell_type": "code",
   "execution_count": 6,
   "metadata": {
    "collapsed": false,
    "deletable": true,
    "editable": true
   },
   "outputs": [
    {
     "data": {
      "text/plain": [
       "[-1, 1, -1, 1, -1, 1, -1, 1, -1, 1]"
      ]
     },
     "execution_count": 6,
     "metadata": {},
     "output_type": "execute_result"
    }
   ],
   "source": [
    "[ -1 if(i%2==0) else 1 for i in range(10)]"
   ]
  },
  {
   "cell_type": "markdown",
   "metadata": {
    "deletable": true,
    "editable": true
   },
   "source": [
    "But there is another way of producing the same effect.  Say, you have a collection and you'd like to apply a function to that collection and collect the result:"
   ]
  },
  {
   "cell_type": "code",
   "execution_count": 7,
   "metadata": {
    "collapsed": false,
    "deletable": true,
    "editable": true
   },
   "outputs": [
    {
     "data": {
      "text/plain": [
       "[1, -1, 1, -1, 1, -1, 1, -1, 1, -1, 1, -1, 1, -1, 1, -1, 1, -1, 1, -1]"
      ]
     },
     "execution_count": 7,
     "metadata": {},
     "output_type": "execute_result"
    }
   ],
   "source": [
    "def fn(x):\n",
    "    return((-1)**x)\n",
    "        \n",
    "list(map(fn,range(20)))"
   ]
  },
  {
   "cell_type": "markdown",
   "metadata": {
    "deletable": true,
    "editable": true
   },
   "source": [
    "But, we didn't have to define a separate function for this purpose, we can define it *inline* right there:"
   ]
  },
  {
   "cell_type": "code",
   "execution_count": 8,
   "metadata": {
    "collapsed": false,
    "deletable": true,
    "editable": true
   },
   "outputs": [
    {
     "data": {
      "text/plain": [
       "[1, -1, 1, -1, 1, -1, 1, -1, 1, -1, 1, -1, 1, -1, 1, -1, 1, -1, 1, -1]"
      ]
     },
     "execution_count": 8,
     "metadata": {},
     "output_type": "execute_result"
    }
   ],
   "source": [
    "list(map(lambda i: (-1)**i, range(20)))"
   ]
  },
  {
   "cell_type": "markdown",
   "metadata": {
    "deletable": true,
    "editable": true
   },
   "source": [
    "You can also filter the contents of a container using a propositional function.  Python has a construct called *anonymous functions* which are functions without names."
   ]
  },
  {
   "cell_type": "code",
   "execution_count": 9,
   "metadata": {
    "collapsed": false,
    "deletable": true,
    "editable": true
   },
   "outputs": [
    {
     "data": {
      "text/plain": [
       "[4, 6, 8]"
      ]
     },
     "execution_count": 9,
     "metadata": {},
     "output_type": "execute_result"
    }
   ],
   "source": [
    "list(filter(lambda x: x%2==0 and x>3, range(10)))"
   ]
  },
  {
   "cell_type": "markdown",
   "metadata": {
    "deletable": true,
    "editable": true
   },
   "source": [
    "## Another application\n",
    "\n",
    "Today, I am going to give a set of *unstructured* (less than JSON or XML, but more than plain text) data.  You can download it from [here](http://download.geonames.org/export/zip/TR.zip). Unzip the file in where you keep this notebook.\n",
    "\n",
    "The data consists of the postal codes in Turkey, and is in [comma seperated values (CSV)](http://en.wikipedia.org/wiki/Comma-separated_values) format.  And of course, there is a python library for that :)"
   ]
  },
  {
   "cell_type": "code",
   "execution_count": 2,
   "metadata": {
    "collapsed": false,
    "deletable": true,
    "editable": true
   },
   "outputs": [
    {
     "data": {
      "text/plain": [
       "['TR',\n",
       " '02700',\n",
       " 'Burçakli',\n",
       " 'Adiyaman',\n",
       " '02',\n",
       " 'Gerger',\n",
       " '8631677',\n",
       " '',\n",
       " '',\n",
       " '38.0283',\n",
       " '38.9567',\n",
       " '4']"
      ]
     },
     "execution_count": 2,
     "metadata": {},
     "output_type": "execute_result"
    }
   ],
   "source": [
    "import csv\n",
    "\n",
    "data = open(\"TR.txt\",'r')\n",
    "dataReader = csv.reader(data, delimiter=\"\\t\")\n",
    "raw = list(dataReader)\n",
    "data.close()\n",
    "\n",
    "raw[1]"
   ]
  },
  {
   "cell_type": "markdown",
   "metadata": {
    "deletable": true,
    "editable": true
   },
   "source": [
    "The data is separated into columns. The relevant columns for us are the 2nd (the Zip Code,) the 3rd (\"mahalle\") the 4th (\"il\") and 5th (\"ilce\"). I am going to create a table for reverse lookup: given the zip code, where does it belong to?"
   ]
  },
  {
   "cell_type": "code",
   "execution_count": 5,
   "metadata": {
    "collapsed": false,
    "deletable": true,
    "editable": true
   },
   "outputs": [
    {
     "name": "stdout",
     "output_type": "stream",
     "text": [
      "İstanbul Beşiktaş Abbasağa\n"
     ]
    }
   ],
   "source": [
    "reverseLookup = {x[1]: [x[3],x[5],x[2]] for x in raw}\n",
    "\n",
    "def getDistrict(zip):\n",
    "    y = reverseLookup[zip]\n",
    "    print(y[0], y[1], y[2])\n",
    "    \n",
    "getDistrict('34353')"
   ]
  },
  {
   "cell_type": "markdown",
   "metadata": {
    "deletable": true,
    "editable": true
   },
   "source": [
    "But, I would really like the lookup to work in the other direction. That is, I'd like to give the district and get all neighborhoods with all of the zip codes.  For that I am going to need nested dictionaries:"
   ]
  },
  {
   "cell_type": "code",
   "execution_count": 16,
   "metadata": {
    "collapsed": false,
    "deletable": true,
    "editable": true
   },
   "outputs": [],
   "source": [
    "lookup = {}\n",
    "\n",
    "for x in raw:\n",
    "    try:\n",
    "        temp1 = lookup[x[3]]\n",
    "        try:\n",
    "            temp2 = temp1[x[5]]\n",
    "            temp2.update({x[2]: x[1]})\n",
    "        except:\n",
    "            temp1.update({x[5]: {x[2]: x[1]}})\n",
    "    except:\n",
    "        lookup.update({x[3]: {x[5]: {x[2]: x[1]}}})\n",
    "    \n",
    "def getZipCode(city,district):\n",
    "    if district == \"\":\n",
    "       for j in lookup[city].keys():\n",
    "           print(\"{:<12}\".format(j))\n",
    "           for i in lookup[city][j].keys():\n",
    "               print(\" \"*12 + \"{:<11} \\t {:<5}\".format(i, lookup[city][j][i]))\n",
    "    else:\n",
    "         for i in lookup[city][district].keys():\n",
    "             print(\"{:<11} \\t {:<5}\".format(i, lookup[city][district][i]))"
   ]
  },
  {
   "cell_type": "code",
   "execution_count": 17,
   "metadata": {
    "collapsed": false,
    "deletable": true,
    "editable": true
   },
   "outputs": [
    {
     "name": "stdout",
     "output_type": "stream",
     "text": [
      "Levent      \t 34330\n",
      "Abbasağa    \t 34353\n",
      "Akatlar     \t 34335\n",
      "Arnavutköy  \t 34345\n",
      "Türkali     \t 34357\n",
      "Levazim     \t 34340\n",
      "Etiler      \t 34337\n",
      "Ortaköy     \t 34347\n",
      "Bebek       \t 34342\n",
      "Gayrettepe  \t 34349\n"
     ]
    }
   ],
   "source": [
    "getZipCode('İstanbul','Beşiktaş')"
   ]
  },
  {
   "cell_type": "markdown",
   "metadata": {
    "deletable": true,
    "editable": true
   },
   "source": [
    "## A homework\n",
    "\n",
    "You can download IETT busline information from [here](iettbus.json). The data is in [JSON](http://en.wikipedia.org/wiki/JSON) format. Until next time, look at the data, try to understand it and come up with ideas as to what we can do.  We'll discuss."
   ]
  }
 ],
 "metadata": {
  "kernelspec": {
   "display_name": "Python 3",
   "language": "python",
   "name": "python3"
  },
  "language_info": {
   "codemirror_mode": {
    "name": "ipython",
    "version": 3
   },
   "file_extension": ".py",
   "mimetype": "text/x-python",
   "name": "python",
   "nbconvert_exporter": "python",
   "pygments_lexer": "ipython3",
   "version": "3.5.2"
  }
 },
 "nbformat": 4,
 "nbformat_minor": 0
}

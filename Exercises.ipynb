{
 "cells": [
  {
   "cell_type": "markdown",
   "metadata": {},
   "source": [
    "# Simple exercises "
   ]
  },
  {
   "cell_type": "code",
   "execution_count": 9,
   "metadata": {
    "collapsed": false
   },
   "outputs": [],
   "source": [
    "import random\n",
    "import math\n",
    "import urllib.request\n",
    "import json\n",
    "\n",
    "epsilon = 0.0001"
   ]
  },
  {
   "cell_type": "markdown",
   "metadata": {},
   "source": [
    "## Exercise 1\n",
    "\n",
    "Write a function called `FizzBuzz` which takes an integer as input and returns the following:\n",
    "\n",
    "* If the input is divisible by 3, it should return \"Fizz\"\n",
    "* If the input is divisible by 5, it should return \"Buzz\"\n",
    "* If the input is divisible by 15 then it should return \"FizzBuzz\"\n",
    "* Otherwise it should return the input number unchanged\n"
   ]
  },
  {
   "cell_type": "code",
   "execution_count": null,
   "metadata": {
    "collapsed": true
   },
   "outputs": [],
   "source": []
  },
  {
   "cell_type": "markdown",
   "metadata": {},
   "source": [
    "You can test your functions below. If running the cell below does not print anything that means your functions are most-likely correct."
   ]
  },
  {
   "cell_type": "code",
   "execution_count": null,
   "metadata": {
    "collapsed": true
   },
   "outputs": [],
   "source": [
    "assert FizzBuzz(40) == \"Buzz\"\n",
    "assert FizzBuzz(0) == \"FizzBuzz\"\n",
    "assert FizzBuzz(6) == \"Fizz\"\n",
    "assert FizzBuzz(16) == 16"
   ]
  },
  {
   "cell_type": "markdown",
   "metadata": {},
   "source": [
    "## Exercise 2\n",
    "\n",
    "Write two simple python functions: `FtoC` and `CtoF`. The first should convert a temperature given in Fahrenheit to Celcius, while the second does the opposite conversion.  The conversion from Fahrenheit to Celcius is given by \n",
    "$$ \\frac{(F - 32)\\cdot 5}{9} $$"
   ]
  },
  {
   "cell_type": "code",
   "execution_count": null,
   "metadata": {
    "collapsed": true
   },
   "outputs": [],
   "source": []
  },
  {
   "cell_type": "markdown",
   "metadata": {},
   "source": [
    "You can test your functions below. "
   ]
  },
  {
   "cell_type": "code",
   "execution_count": null,
   "metadata": {
    "collapsed": true
   },
   "outputs": [],
   "source": [
    "temperature = random.uniform(0.0,100.0)\n",
    "\n",
    "assert abs(FtoC(CtoF(temperature)) - CtoF(FtoC(temperature))) < epsilon\n",
    "assert abs(CtoF(-40.0)+40.0) < epsilon\n",
    "assert abs(FtoC(41)-5.0) < epsilon"
   ]
  },
  {
   "cell_type": "markdown",
   "metadata": {},
   "source": [
    "## Exercise 3\n",
    "\n",
    "Say, we have TL100,000 in a retirement account that brings 9% per year. Assume that we withdraw TL36,000 at the beginning of every year starting at year 1.  Write an function named `howMuchLeft` that returns amount left in the accout after n years.  In other words, the input will be the number of years and it should return how much is left at the end of year n. **Hint:** Use a for loop."
   ]
  },
  {
   "cell_type": "code",
   "execution_count": null,
   "metadata": {
    "collapsed": true
   },
   "outputs": [],
   "source": []
  },
  {
   "cell_type": "markdown",
   "metadata": {},
   "source": [
    "You can test your function below:"
   ]
  },
  {
   "cell_type": "code",
   "execution_count": null,
   "metadata": {
    "collapsed": true
   },
   "outputs": [],
   "source": [
    "assert abs(howMuchLeft(0) - 100000) < epsilon\n",
    "assert abs(howMuchLeft(1) - 73000) < epsilon\n",
    "assert abs(howMuchLeft(5) + 61587.19) < epsilon"
   ]
  },
  {
   "cell_type": "markdown",
   "metadata": {},
   "source": [
    "Now improve the function `howMuchLeft` as follows: in this new iteration, the function takes the following inputs in the order they are listed below:\n",
    "\n",
    "* The initial amount\n",
    "* Intrest rate (for example 9% should be given as 0.09)\n",
    "* How much we withdraw per year\n",
    "* The number of years"
   ]
  },
  {
   "cell_type": "code",
   "execution_count": null,
   "metadata": {
    "collapsed": true
   },
   "outputs": [],
   "source": []
  },
  {
   "cell_type": "markdown",
   "metadata": {},
   "source": [
    "You can test your function below:"
   ]
  },
  {
   "cell_type": "code",
   "execution_count": null,
   "metadata": {
    "collapsed": true
   },
   "outputs": [],
   "source": [
    "assert abs(howMuchLeft(100000,0.09,36000,1)-73000) < epsilon\n",
    "assert abs(howMuchLeft(500000,0.11,60000,10)-416389.96) < epsilon"
   ]
  },
  {
   "cell_type": "markdown",
   "metadata": {},
   "source": [
    "## Exercise 4\n",
    "\n",
    "The Euclidean dot product of two vectors $v\\cdot w$ given in a coordinate system $v = (v_1,\\ldots,v_n)$ and $w = (w_1,\\ldots,w_n)$ is calculated as\n",
    "$$ v\\cdot w = \\sum_{i=1}^n v_i w_i $$\n",
    "Write a python function that takes two vectors (as python arrays) and returns their dot product. Function will not know the dimensions of the vectors.  In python, you can learn the size of an array (dimension of a vector) by calling the `len` function:"
   ]
  },
  {
   "cell_type": "code",
   "execution_count": null,
   "metadata": {
    "collapsed": true
   },
   "outputs": [],
   "source": [
    "len([0,1,3])"
   ]
  },
  {
   "cell_type": "code",
   "execution_count": null,
   "metadata": {
    "collapsed": true
   },
   "outputs": [],
   "source": []
  },
  {
   "cell_type": "markdown",
   "metadata": {},
   "source": [
    "You can test your function below:"
   ]
  },
  {
   "cell_type": "code",
   "execution_count": null,
   "metadata": {
    "collapsed": true
   },
   "outputs": [],
   "source": [
    "assert dot([1,1],[1,1]) == 2\n",
    "assert dot([0,0,0,0,0,1],[1,0,0,0,0,0]) == 0\n",
    "\n",
    "theta = random.uniform(0,math.pi)\n",
    "assert dot([math.cos(theta),math.sin(theta)],[-math.sin(theta),math.cos(theta)]) == 0"
   ]
  },
  {
   "cell_type": "markdown",
   "metadata": {},
   "source": [
    "Now that we can take the dot product of two vectors, we can also calculate the norm of a vector.  The norm of a vector $v=(v_1,\\ldots,v_n)$ is defined as\n",
    "$$ \\|v\\| = \\sqrt{v\\cdot v} = \\sqrt{\\sum_{i=1}^n v_i^2} $$\n",
    "Write a python function that returns the norm of a vector."
   ]
  },
  {
   "cell_type": "code",
   "execution_count": null,
   "metadata": {
    "collapsed": true
   },
   "outputs": [],
   "source": []
  },
  {
   "cell_type": "markdown",
   "metadata": {},
   "source": [
    "You can test your function below:"
   ]
  },
  {
   "cell_type": "code",
   "execution_count": null,
   "metadata": {
    "collapsed": true
   },
   "outputs": [],
   "source": [
    "assert abs(norm([1,1,1,1,1])-math.sqrt(5)) < epsilon\n",
    "\n",
    "theta = random.uniform(0,math.pi)\n",
    "assert abs(norm([math.sin(theta),math.cos(theta)]) - 1.0) < epsilon"
   ]
  },
  {
   "cell_type": "markdown",
   "metadata": {},
   "source": [
    "## Exercise 5\n",
    "\n",
    "Riemann sum of a function over an interval $[a,b]$ is defined as follows:\n",
    "\n",
    "$$ \\frac{b-a}{n}\\sum_{i=1}^n f(a+ i(b-a)/n) $$\n",
    "Write a function called `RiemannSum` that takes the following arguments in the order they are listed, and returns the corresponding Riemann sum\n",
    "\n",
    "* Function\n",
    "* The number of subdivisions n\n",
    "* Initial point a\n",
    "* Terminal point b"
   ]
  },
  {
   "cell_type": "code",
   "execution_count": null,
   "metadata": {
    "collapsed": true
   },
   "outputs": [],
   "source": []
  },
  {
   "cell_type": "code",
   "execution_count": null,
   "metadata": {
    "collapsed": true
   },
   "outputs": [],
   "source": [
    "assert abs(RiemannSum(math.cos,20000,0,math.pi)) < epsilon\n",
    "assert abs(RiemannSum(lambda x: x,20000,0,1.0)-0.5) < epsilon"
   ]
  },
  {
   "cell_type": "markdown",
   "metadata": {},
   "source": [
    "## Exercise 6\n",
    "\n",
    "Consider the function\n",
    "$$ f(n) = \\begin{cases}\n",
    "    1 & \\text{ if } n=1\\\\\n",
    "    \\frac{n}{2} & \\text{ if $n$ is even }\\\\\n",
    "    3n+1        & \\text{ if $n$ is odd}\n",
    "    \\end{cases}\n",
    "$$ \n",
    "and consider the recursive sequence\n",
    "$$ a_{n+1} = f(a_n) $$\n",
    "The famous [Collatz Conjecture]() states that whichever initial value $a_0$ we choose, the recursive sequence eventually becomes 1.\n",
    "\n",
    "First write and implementation of the function `f` above.  Then write a python function called `CollatzLength` that takes an input and returns how many steps it takes before the sequence becomes 1."
   ]
  },
  {
   "cell_type": "code",
   "execution_count": null,
   "metadata": {
    "collapsed": true
   },
   "outputs": [],
   "source": []
  },
  {
   "cell_type": "markdown",
   "metadata": {},
   "source": [
    "You can test your functions below:"
   ]
  },
  {
   "cell_type": "code",
   "execution_count": null,
   "metadata": {
    "collapsed": true
   },
   "outputs": [],
   "source": [
    "assert f(1) == 4\n",
    "assert f(16) == 8\n",
    "assert CollatzLength(16) == 4\n",
    "assert CollatzLength(1023) == 62"
   ]
  },
  {
   "cell_type": "markdown",
   "metadata": {},
   "source": [
    "## Exercise 7\n",
    "\n",
    "Write a function called `Binary` that takes a positive integer as an input and returns its binary digits as a sequence of 0's and 1's.  For example the binary digits of `6` are `[1,1,0]`.\n"
   ]
  },
  {
   "cell_type": "code",
   "execution_count": 22,
   "metadata": {
    "collapsed": true
   },
   "outputs": [],
   "source": []
  },
  {
   "cell_type": "markdown",
   "metadata": {},
   "source": [
    "You can test your function below:"
   ]
  },
  {
   "cell_type": "code",
   "execution_count": 26,
   "metadata": {
    "collapsed": false
   },
   "outputs": [],
   "source": [
    "assert Binary(0) == [0]\n",
    "assert Binary(7) == [1,1,1]\n",
    "assert Binary(1024) == [1,0,0,0,0,0,0,0,0,0,0]"
   ]
  },
  {
   "cell_type": "markdown",
   "metadata": {},
   "source": [
    "Using the function `Binary` above, write a function `CountOnes` that counts the number of 1's in the binary expansion of a number `n`:"
   ]
  },
  {
   "cell_type": "code",
   "execution_count": 27,
   "metadata": {
    "collapsed": true
   },
   "outputs": [],
   "source": []
  },
  {
   "cell_type": "markdown",
   "metadata": {},
   "source": [
    "You can test your function below:"
   ]
  },
  {
   "cell_type": "code",
   "execution_count": 33,
   "metadata": {
    "collapsed": false
   },
   "outputs": [],
   "source": [
    "assert CountOnes(0) == 0\n",
    "\n",
    "n = abs(random.randint(0,50))\n",
    "assert CountOnes(math.pow(2,n)) == 1\n",
    "assert CountOnes(math.pow(2,n)-1) == n"
   ]
  },
  {
   "cell_type": "markdown",
   "metadata": {},
   "source": [
    "## Exercise 8\n",
    "\n",
    "[Hamming distance](http://www.oxfordmathcenter.com/drupal7/node/525) of two arrays of 0's and 1's of equal length, is the number of places they are different.  For example, the Hamming distance of `[1,0,0]` and `[0,1,0]` is 2 since they differ in positions 0 and 1, and they contain the same value at position 2.\n",
    "\n",
    "Write a function called `HammingDistance` that takes two arrays of 0's and 1's and return their Hamming distance.  If arrays are of different length, then pad the shorter array with 0's at the end and then compute the Hamming distance.  For example if we would compute the Hamming distance of `[1,1]` and `[1,1,1,1]` then calculate the Hamming distance of `[1,1,0,0]` and `[1,1,1,1]` which is 2."
   ]
  },
  {
   "cell_type": "code",
   "execution_count": 37,
   "metadata": {
    "collapsed": false
   },
   "outputs": [],
   "source": []
  },
  {
   "cell_type": "markdown",
   "metadata": {},
   "source": [
    "You can test your function below:"
   ]
  },
  {
   "cell_type": "code",
   "execution_count": 43,
   "metadata": {
    "collapsed": false
   },
   "outputs": [],
   "source": [
    "xs = [ random.randint(0,2)  for i in range(20) ]\n",
    "assert HammingDistance(xs,xs) == 0\n",
    "\n",
    "n = random.randint(10,20)\n",
    "m = random.randint(0,10)\n",
    "assert HammingDistance(Binary(math.pow(2,n)-1),Binary(math.pow(2,m)-1)) == n-m"
   ]
  },
  {
   "cell_type": "markdown",
   "metadata": {},
   "source": [
    "## Exercise 9\n",
    "\n",
    "Write a function called `IsThisPrime` that tests whether a given number is prime:\n"
   ]
  },
  {
   "cell_type": "code",
   "execution_count": 86,
   "metadata": {
    "collapsed": true
   },
   "outputs": [],
   "source": []
  },
  {
   "cell_type": "markdown",
   "metadata": {},
   "source": [
    "You can test your function below:"
   ]
  },
  {
   "cell_type": "code",
   "execution_count": 88,
   "metadata": {
    "collapsed": false
   },
   "outputs": [],
   "source": [
    "assert IsThisPrime(0) == False\n",
    "assert IsThisPrime(1) == False\n",
    "\n",
    "assert IsThisPrime(2) == True\n",
    "assert IsThisPrime(3) == True\n",
    "assert IsThisPrime(math.pow(2,19)-1) == True\n",
    "\n",
    "n = random.randint(2,100)\n",
    "m = random.randint(2,100)\n",
    "assert IsThisPrime(n*m) == False"
   ]
  },
  {
   "cell_type": "markdown",
   "metadata": {},
   "source": [
    "## Exercise 10\n",
    "\n",
    "Write a function called `IsThisATriangle` that takes 3 numbers as input and checks if there is a triangle whose sides are the given numbers.  Notice that if $a\\leq b\\leq c$ then there is a triangle whose sidelengths are $a,b,c$ if and only if $a+b > c$.\n",
    "\n",
    "**Hint**: To sort a sequence, in python we use the following:"
   ]
  },
  {
   "cell_type": "code",
   "execution_count": 108,
   "metadata": {
    "collapsed": false
   },
   "outputs": [
    {
     "data": {
      "text/plain": [
       "[0, 1, 2, 3, 4]"
      ]
     },
     "execution_count": 108,
     "metadata": {},
     "output_type": "execute_result"
    }
   ],
   "source": [
    "xs = [3,4,2,1,0]\n",
    "xs.sort()\n",
    "xs"
   ]
  },
  {
   "cell_type": "code",
   "execution_count": 103,
   "metadata": {
    "collapsed": true
   },
   "outputs": [],
   "source": []
  },
  {
   "cell_type": "markdown",
   "metadata": {},
   "source": [
    "You can check your function below:"
   ]
  },
  {
   "cell_type": "code",
   "execution_count": 107,
   "metadata": {
    "collapsed": false
   },
   "outputs": [],
   "source": [
    "a = random.uniform(1,4)\n",
    "b = random.uniform(0,1)\n",
    "assert IsThisATriangle(a,a,2*a) == False\n",
    "assert IsThisATriangle(b,a,a+b/2) == True"
   ]
  },
  {
   "cell_type": "markdown",
   "metadata": {},
   "source": [
    "## Exercise 11\n",
    "\n",
    "There is a file in this directory called `example.txt`. Write a function called `CountWords` that takes the name of the file we are going to process (in this case it is `example.txt`) and returns a map where the keys are distinct words in that file, and the values are the number of times each word appear in the text.  For example, if we were to call `CountWords` on the text \"that is that and this is this\" it should return `{\"that\": 2, \"this\": 2, \"is\": 2}`.  \n",
    "\n",
    "Here is a list of functions you are going to need\n",
    "\n",
    "* open\n",
    "* close\n",
    "* read\n",
    "* str.split\n",
    "\n",
    "Read the help on these functions calling `help(X)` on a code cell where you replace `X` with the function name you need to use.  Also, read part of \"Lecture3.ipynb\" on working with maps."
   ]
  },
  {
   "cell_type": "code",
   "execution_count": null,
   "metadata": {
    "collapsed": true
   },
   "outputs": [],
   "source": []
  },
  {
   "cell_type": "markdown",
   "metadata": {},
   "source": [
    "You can test you function below:"
   ]
  },
  {
   "cell_type": "code",
   "execution_count": 58,
   "metadata": {
    "collapsed": true
   },
   "outputs": [],
   "source": [
    "result = CountWords(\"example.txt\")\n",
    "\n",
    "assert result['and'] == 44\n",
    "assert result['ginsberg'] == 10\n",
    "assert result['howl'] == 15"
   ]
  },
  {
   "cell_type": "markdown",
   "metadata": {},
   "source": [
    "## Exercise 12\n",
    "\n",
    "Let us work with some data from IETT.  Istanbul municipality has an internet API which you can query.  The API returns its response in [JSON](http://www.json.org/) format."
   ]
  },
  {
   "cell_type": "code",
   "execution_count": 18,
   "metadata": {
    "collapsed": false
   },
   "outputs": [
    {
     "data": {
      "text/plain": [
       "{'item': {'hat_bilgisi': [{'bilgi': {'ikon': 'ring-hat', 'tanim': 'Ring Hat'}},\n",
       "   {'bilgi': {'ikon': 'tek-bilet', 'tanim': 'Tek Bilet'}}],\n",
       "  'hat_name': 'BEŞİKTAŞ - MECİDİYEKÖY',\n",
       "  'hat_no': '30A',\n",
       "  'hat_suresi': '30 Dakika',\n",
       "  'yon_1': {'durak_adi': 'BEŞİKTAŞ İSKELE',\n",
       "   'kalkis_saati': [{'saat': {'zaman': '11:55'}},\n",
       "    {'saat': {'zaman': '12:00'}},\n",
       "    {'saat': {'zaman': '12:04'}},\n",
       "    {'saat': {'zaman': '12:08'}},\n",
       "    {'saat': {'zaman': '12:13'}},\n",
       "    {'saat': {'zaman': '12:18'}},\n",
       "    {'saat': {'zaman': '12:23'}},\n",
       "    {'saat': {'zaman': '12:28'}}]}},\n",
       " 'type': 'hat'}"
      ]
     },
     "execution_count": 18,
     "metadata": {},
     "output_type": "execute_result"
    }
   ],
   "source": [
    "from urllib.request import urlopen\n",
    "from json import loads\n",
    "\n",
    "raw = urlopen(\"http://www.iett.istanbul/tr/main/ajaxHatSonuc/?format=json&q=30A\")\n",
    "result = loads(raw.read().decode('utf8'))\n",
    "result"
   ]
  },
  {
   "cell_type": "markdown",
   "metadata": {},
   "source": [
    "The code above queries IETT server on the line \"30A\" and the response is in JSON format.\n",
    "\n",
    "Write a function called `QueryIETT` that queries the IETT server on a specific line and returns the result in JSON format without modification."
   ]
  },
  {
   "cell_type": "code",
   "execution_count": 19,
   "metadata": {
    "collapsed": true
   },
   "outputs": [],
   "source": []
  },
  {
   "cell_type": "markdown",
   "metadata": {},
   "source": [
    "You can test your function below:"
   ]
  },
  {
   "cell_type": "code",
   "execution_count": 25,
   "metadata": {
    "collapsed": false
   },
   "outputs": [],
   "source": [
    "res = QueryIETT(\"559C\")\n",
    "\n",
    "assert res['item']['hat_name'] == 'RUMELİ HİSARÜSTÜ - TAKSİM'\n",
    "assert res['item']['hat_suresi'] == '50 Dakika'"
   ]
  },
  {
   "cell_type": "markdown",
   "metadata": {},
   "source": [
    "## Exercise 13\n",
    "\n",
    "This time we are going to query [European Central Bank](https://sdw-wsrest.ecb.europa.eu/web/generator/index.html) on exhange rate between USD and EUR.  Here is the sample code:"
   ]
  },
  {
   "cell_type": "code",
   "execution_count": 5,
   "metadata": {
    "collapsed": false
   },
   "outputs": [],
   "source": [
    "from xmltodict import parse\n",
    "from urllib.request import urlopen\n",
    "import matplotlib.pyplot as plt\n",
    "\n",
    "raw1 = urlopen(\"https://sdw-wsrest.ecb.europa.eu/service/data/EXR/D.USD.EUR.SP00.A\")\n",
    "raw2 = raw1.read().decode('utf8')\n",
    "res = parse(raw2)"
   ]
  },
  {
   "cell_type": "markdown",
   "metadata": {},
   "source": [
    "Poke around the value `res` we calculated above, and extract the relevant information: the date and the exchange rate.  Write a function called `QueryECB` that takes the name of the series (in the case above it is \"`M.USD.EUR.SP00.A`\") and returns a map (keys are dates and values are exchange rates)."
   ]
  },
  {
   "cell_type": "code",
   "execution_count": 7,
   "metadata": {
    "collapsed": false
   },
   "outputs": [],
   "source": []
  },
  {
   "cell_type": "markdown",
   "metadata": {},
   "source": [
    "You can test your code below:"
   ]
  },
  {
   "cell_type": "code",
   "execution_count": 16,
   "metadata": {
    "collapsed": false,
    "scrolled": true
   },
   "outputs": [],
   "source": [
    "res = QueryECB(\"D.USD.EUR.SP00.A\")\n",
    "\n",
    "assert abs(res['2001-04-04'] - 0.9032) < epsilon\n",
    "assert abs(res['2007-09-03'] - 1.3632) < epsilon\n",
    "assert abs(res['2017-05-03'] - 1.0919) < epsilon"
   ]
  },
  {
   "cell_type": "markdown",
   "metadata": {
    "collapsed": false
   },
   "source": [
    "Here is a plot of the data you downloaded:"
   ]
  },
  {
   "cell_type": "code",
   "execution_count": 17,
   "metadata": {
    "collapsed": false
   },
   "outputs": [
    {
     "data": {
      "image/png": "[encoded data removed]",
      "text/plain": [
       "<matplotlib.figure.Figure at 0x7f511f1adfd0>"
      ]
     },
     "metadata": {},
     "output_type": "display_data"
    }
   ],
   "source": [
    "dates = res.keys()\n",
    "xs = list(range(len(dates)))\n",
    "ys = [res[x] for x in sorted(dates)]\n",
    "\n",
    "plt.figure(figsize=(12, 6))\n",
    "plt.ylim(0.0, 2.0)\n",
    "plt.plot(xs,ys)\n",
    "plt.show()"
   ]
  },
  {
   "cell_type": "code",
   "execution_count": null,
   "metadata": {
    "collapsed": true
   },
   "outputs": [],
   "source": []
  }
 ],
 "metadata": {
  "kernelspec": {
   "display_name": "Python 3",
   "language": "python",
   "name": "python3"
  },
  "language_info": {
   "codemirror_mode": {
    "name": "ipython",
    "version": 3
   },
   "file_extension": ".py",
   "mimetype": "text/x-python",
   "name": "python",
   "nbconvert_exporter": "python",
   "pygments_lexer": "ipython3",
   "version": "3.5.4"
  }
 },
 "nbformat": 4,
 "nbformat_minor": 2
}

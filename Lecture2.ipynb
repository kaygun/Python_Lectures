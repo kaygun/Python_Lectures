{
 "cells": [
  {
   "cell_type": "markdown",
   "metadata": {},
   "source": [
    "# Python Lectures (2)\n",
    "\n",
    "Last time we did a brief introduction. We were writing a small application that calculates currency exchange. This time we are going to extend the application by pulling the exchange rates from the web.  For that I am going to need two libraries:"
   ]
  },
  {
   "cell_type": "code",
   "execution_count": 6,
   "metadata": {
    "collapsed": false
   },
   "outputs": [],
   "source": [
    "import urllib\n",
    "import xmltodict"
   ]
  },
  {
   "cell_type": "markdown",
   "metadata": {},
   "source": [
    "The first library `urllib` is for pulling content from the web, while the second `xmltodict` for parsing an XML stream into a python dictionary (map)."
   ]
  },
  {
   "cell_type": "code",
   "execution_count": 7,
   "metadata": {
    "collapsed": false
   },
   "outputs": [],
   "source": [
    "raw = xmltodict.parse(urllib.request.urlopen(\"http://www.ecb.europa.eu/stats/eurofxref/eurofxref-daily.xml\"))"
   ]
  },
  {
   "cell_type": "markdown",
   "metadata": {},
   "source": [
    "[The European Central Bank](http://www.ecb.europa.eu/) keeps daily data on exchange rate at the URL you see above.  The data is kept in [XML](http://en.wikipedia.org/wiki/XML) format.  When we call the function `urllib.urlopen` on the URL, we get a python stream: something like a file.  Then the function `xmltodict.parse` parses the content of the stream into a python map.  The contents of the map complicated:"
   ]
  },
  {
   "cell_type": "code",
   "execution_count": 8,
   "metadata": {
    "collapsed": false,
    "scrolled": true
   },
   "outputs": [
    {
     "data": {
      "text/plain": [
       "OrderedDict([('gesmes:Envelope',\n",
       "              OrderedDict([('@xmlns:gesmes',\n",
       "                            'http://www.gesmes.org/xml/2002-08-01'),\n",
       "                           ('@xmlns',\n",
       "                            'http://www.ecb.int/vocabulary/2002-08-01/eurofxref'),\n",
       "                           ('gesmes:subject', 'Reference rates'),\n",
       "                           ('gesmes:Sender',\n",
       "                            OrderedDict([('gesmes:name',\n",
       "                                          'European Central Bank')])),\n",
       "                           ('Cube',\n",
       "                            OrderedDict([('Cube',\n",
       "                                          OrderedDict([('@time', '2017-09-22'),\n",
       "                                                       ('Cube',\n",
       "                                                        [OrderedDict([('@currency',\n",
       "                                                                       'USD'),\n",
       "                                                                      ('@rate',\n",
       "                                                                       '1.1961')]),\n",
       "                                                         OrderedDict([('@currency',\n",
       "                                                                       'JPY'),\n",
       "                                                                      ('@rate',\n",
       "                                                                       '134.01')]),\n",
       "                                                         OrderedDict([('@currency',\n",
       "                                                                       'BGN'),\n",
       "                                                                      ('@rate',\n",
       "                                                                       '1.9558')]),\n",
       "                                                         OrderedDict([('@currency',\n",
       "                                                                       'CZK'),\n",
       "                                                                      ('@rate',\n",
       "                                                                       '26.046')]),\n",
       "                                                         OrderedDict([('@currency',\n",
       "                                                                       'DKK'),\n",
       "                                                                      ('@rate',\n",
       "                                                                       '7.4407')]),\n",
       "                                                         OrderedDict([('@currency',\n",
       "                                                                       'GBP'),\n",
       "                                                                      ('@rate',\n",
       "                                                                       '0.88155')]),\n",
       "                                                         OrderedDict([('@currency',\n",
       "                                                                       'HUF'),\n",
       "                                                                      ('@rate',\n",
       "                                                                       '309.73')]),\n",
       "                                                         OrderedDict([('@currency',\n",
       "                                                                       'PLN'),\n",
       "                                                                      ('@rate',\n",
       "                                                                       '4.2672')]),\n",
       "                                                         OrderedDict([('@currency',\n",
       "                                                                       'RON'),\n",
       "                                                                      ('@rate',\n",
       "                                                                       '4.5967')]),\n",
       "                                                         OrderedDict([('@currency',\n",
       "                                                                       'SEK'),\n",
       "                                                                      ('@rate',\n",
       "                                                                       '9.5358')]),\n",
       "                                                         OrderedDict([('@currency',\n",
       "                                                                       'CHF'),\n",
       "                                                                      ('@rate',\n",
       "                                                                       '1.1588')]),\n",
       "                                                         OrderedDict([('@currency',\n",
       "                                                                       'NOK'),\n",
       "                                                                      ('@rate',\n",
       "                                                                       '9.3193')]),\n",
       "                                                         OrderedDict([('@currency',\n",
       "                                                                       'HRK'),\n",
       "                                                                      ('@rate',\n",
       "                                                                       '7.4843')]),\n",
       "                                                         OrderedDict([('@currency',\n",
       "                                                                       'RUB'),\n",
       "                                                                      ('@rate',\n",
       "                                                                       '68.8885')]),\n",
       "                                                         OrderedDict([('@currency',\n",
       "                                                                       'TRY'),\n",
       "                                                                      ('@rate',\n",
       "                                                                       '4.1804')]),\n",
       "                                                         OrderedDict([('@currency',\n",
       "                                                                       'AUD'),\n",
       "                                                                      ('@rate',\n",
       "                                                                       '1.5011')]),\n",
       "                                                         OrderedDict([('@currency',\n",
       "                                                                       'BRL'),\n",
       "                                                                      ('@rate',\n",
       "                                                                       '3.7459')]),\n",
       "                                                         OrderedDict([('@currency',\n",
       "                                                                       'CAD'),\n",
       "                                                                      ('@rate',\n",
       "                                                                       '1.4675')]),\n",
       "                                                         OrderedDict([('@currency',\n",
       "                                                                       'CNY'),\n",
       "                                                                      ('@rate',\n",
       "                                                                       '7.8805')]),\n",
       "                                                         OrderedDict([('@currency',\n",
       "                                                                       'HKD'),\n",
       "                                                                      ('@rate',\n",
       "                                                                       '9.3414')]),\n",
       "                                                         OrderedDict([('@currency',\n",
       "                                                                       'IDR'),\n",
       "                                                                      ('@rate',\n",
       "                                                                       '15908.13')]),\n",
       "                                                         OrderedDict([('@currency',\n",
       "                                                                       'ILS'),\n",
       "                                                                      ('@rate',\n",
       "                                                                       '4.1755')]),\n",
       "                                                         OrderedDict([('@currency',\n",
       "                                                                       'INR'),\n",
       "                                                                      ('@rate',\n",
       "                                                                       '77.5010')]),\n",
       "                                                         OrderedDict([('@currency',\n",
       "                                                                       'KRW'),\n",
       "                                                                      ('@rate',\n",
       "                                                                       '1352.78')]),\n",
       "                                                         OrderedDict([('@currency',\n",
       "                                                                       'MXN'),\n",
       "                                                                      ('@rate',\n",
       "                                                                       '21.2905')]),\n",
       "                                                         OrderedDict([('@currency',\n",
       "                                                                       'MYR'),\n",
       "                                                                      ('@rate',\n",
       "                                                                       '5.0117')]),\n",
       "                                                         OrderedDict([('@currency',\n",
       "                                                                       'NZD'),\n",
       "                                                                      ('@rate',\n",
       "                                                                       '1.6336')]),\n",
       "                                                         OrderedDict([('@currency',\n",
       "                                                                       'PHP'),\n",
       "                                                                      ('@rate',\n",
       "                                                                       '60.532')]),\n",
       "                                                         OrderedDict([('@currency',\n",
       "                                                                       'SGD'),\n",
       "                                                                      ('@rate',\n",
       "                                                                       '1.6093')]),\n",
       "                                                         OrderedDict([('@currency',\n",
       "                                                                       'THB'),\n",
       "                                                                      ('@rate',\n",
       "                                                                       '39.579')]),\n",
       "                                                         OrderedDict([('@currency',\n",
       "                                                                       'ZAR'),\n",
       "                                                                      ('@rate',\n",
       "                                                                       '15.8359')])])]))]))]))])"
      ]
     },
     "execution_count": 8,
     "metadata": {},
     "output_type": "execute_result"
    }
   ],
   "source": [
    "raw"
   ]
  },
  {
   "cell_type": "markdown",
   "metadata": {},
   "source": [
    "Everything in python is an object, and objects have admits interfaces. Maps have two fundamental interfaces: keys and values."
   ]
  },
  {
   "cell_type": "code",
   "execution_count": 9,
   "metadata": {
    "collapsed": false
   },
   "outputs": [
    {
     "name": "stdout",
     "output_type": "stream",
     "text": [
      "dict_keys(['TRY', 'EUR', 'US', 'BITCOIN'])\n",
      "dict_values([2.24, 0.8, 1.0, 0.0026])\n"
     ]
    }
   ],
   "source": [
    "Rates = {\"US\": 1.0, \"EUR\": 0.8, \"TRY\": 2.24, \"BITCOIN\": 0.0026}\n",
    "\n",
    "print(Rates.keys())\n",
    "print(Rates.values())"
   ]
  },
  {
   "cell_type": "markdown",
   "metadata": {},
   "source": [
    "So, let us see what the keys are in the raw data we pulled of from the European Central Bank:"
   ]
  },
  {
   "cell_type": "code",
   "execution_count": 10,
   "metadata": {
    "collapsed": false
   },
   "outputs": [
    {
     "data": {
      "text/plain": [
       "odict_keys(['gesmes:Envelope'])"
      ]
     },
     "execution_count": 10,
     "metadata": {},
     "output_type": "execute_result"
    }
   ],
   "source": [
    "raw.keys()"
   ]
  },
  {
   "cell_type": "markdown",
   "metadata": {},
   "source": [
    "This is funny. There is only one key. If you do data analysis long enough, you'll see that XML, or JSON, data you pulled is structured as smartly (or stupidly) as the people who design them.  Let us move in recursively:"
   ]
  },
  {
   "cell_type": "code",
   "execution_count": 11,
   "metadata": {
    "collapsed": false,
    "scrolled": true
   },
   "outputs": [
    {
     "data": {
      "text/plain": [
       "OrderedDict([('@xmlns:gesmes', 'http://www.gesmes.org/xml/2002-08-01'),\n",
       "             ('@xmlns', 'http://www.ecb.int/vocabulary/2002-08-01/eurofxref'),\n",
       "             ('gesmes:subject', 'Reference rates'),\n",
       "             ('gesmes:Sender',\n",
       "              OrderedDict([('gesmes:name', 'European Central Bank')])),\n",
       "             ('Cube',\n",
       "              OrderedDict([('Cube',\n",
       "                            OrderedDict([('@time', '2017-09-22'),\n",
       "                                         ('Cube',\n",
       "                                          [OrderedDict([('@currency', 'USD'),\n",
       "                                                        ('@rate', '1.1961')]),\n",
       "                                           OrderedDict([('@currency', 'JPY'),\n",
       "                                                        ('@rate', '134.01')]),\n",
       "                                           OrderedDict([('@currency', 'BGN'),\n",
       "                                                        ('@rate', '1.9558')]),\n",
       "                                           OrderedDict([('@currency', 'CZK'),\n",
       "                                                        ('@rate', '26.046')]),\n",
       "                                           OrderedDict([('@currency', 'DKK'),\n",
       "                                                        ('@rate', '7.4407')]),\n",
       "                                           OrderedDict([('@currency', 'GBP'),\n",
       "                                                        ('@rate', '0.88155')]),\n",
       "                                           OrderedDict([('@currency', 'HUF'),\n",
       "                                                        ('@rate', '309.73')]),\n",
       "                                           OrderedDict([('@currency', 'PLN'),\n",
       "                                                        ('@rate', '4.2672')]),\n",
       "                                           OrderedDict([('@currency', 'RON'),\n",
       "                                                        ('@rate', '4.5967')]),\n",
       "                                           OrderedDict([('@currency', 'SEK'),\n",
       "                                                        ('@rate', '9.5358')]),\n",
       "                                           OrderedDict([('@currency', 'CHF'),\n",
       "                                                        ('@rate', '1.1588')]),\n",
       "                                           OrderedDict([('@currency', 'NOK'),\n",
       "                                                        ('@rate', '9.3193')]),\n",
       "                                           OrderedDict([('@currency', 'HRK'),\n",
       "                                                        ('@rate', '7.4843')]),\n",
       "                                           OrderedDict([('@currency', 'RUB'),\n",
       "                                                        ('@rate', '68.8885')]),\n",
       "                                           OrderedDict([('@currency', 'TRY'),\n",
       "                                                        ('@rate', '4.1804')]),\n",
       "                                           OrderedDict([('@currency', 'AUD'),\n",
       "                                                        ('@rate', '1.5011')]),\n",
       "                                           OrderedDict([('@currency', 'BRL'),\n",
       "                                                        ('@rate', '3.7459')]),\n",
       "                                           OrderedDict([('@currency', 'CAD'),\n",
       "                                                        ('@rate', '1.4675')]),\n",
       "                                           OrderedDict([('@currency', 'CNY'),\n",
       "                                                        ('@rate', '7.8805')]),\n",
       "                                           OrderedDict([('@currency', 'HKD'),\n",
       "                                                        ('@rate', '9.3414')]),\n",
       "                                           OrderedDict([('@currency', 'IDR'),\n",
       "                                                        ('@rate',\n",
       "                                                         '15908.13')]),\n",
       "                                           OrderedDict([('@currency', 'ILS'),\n",
       "                                                        ('@rate', '4.1755')]),\n",
       "                                           OrderedDict([('@currency', 'INR'),\n",
       "                                                        ('@rate', '77.5010')]),\n",
       "                                           OrderedDict([('@currency', 'KRW'),\n",
       "                                                        ('@rate', '1352.78')]),\n",
       "                                           OrderedDict([('@currency', 'MXN'),\n",
       "                                                        ('@rate', '21.2905')]),\n",
       "                                           OrderedDict([('@currency', 'MYR'),\n",
       "                                                        ('@rate', '5.0117')]),\n",
       "                                           OrderedDict([('@currency', 'NZD'),\n",
       "                                                        ('@rate', '1.6336')]),\n",
       "                                           OrderedDict([('@currency', 'PHP'),\n",
       "                                                        ('@rate', '60.532')]),\n",
       "                                           OrderedDict([('@currency', 'SGD'),\n",
       "                                                        ('@rate', '1.6093')]),\n",
       "                                           OrderedDict([('@currency', 'THB'),\n",
       "                                                        ('@rate', '39.579')]),\n",
       "                                           OrderedDict([('@currency', 'ZAR'),\n",
       "                                                        ('@rate',\n",
       "                                                         '15.8359')])])]))]))])"
      ]
     },
     "execution_count": 11,
     "metadata": {},
     "output_type": "execute_result"
    }
   ],
   "source": [
    "raw[u'gesmes:Envelope']"
   ]
  },
  {
   "cell_type": "markdown",
   "metadata": {},
   "source": [
    "Another map/dictionary! Hmm... The keys?"
   ]
  },
  {
   "cell_type": "code",
   "execution_count": 12,
   "metadata": {
    "collapsed": false
   },
   "outputs": [
    {
     "data": {
      "text/plain": [
       "odict_keys(['@xmlns:gesmes', '@xmlns', 'gesmes:subject', 'gesmes:Sender', 'Cube'])"
      ]
     },
     "execution_count": 12,
     "metadata": {},
     "output_type": "execute_result"
    }
   ],
   "source": [
    "raw[u'gesmes:Envelope'].keys()"
   ]
  },
  {
   "cell_type": "code",
   "execution_count": 14,
   "metadata": {
    "collapsed": false,
    "scrolled": true
   },
   "outputs": [
    {
     "data": {
      "text/plain": [
       "[OrderedDict([('@currency', 'USD'), ('@rate', '1.1961')]),\n",
       " OrderedDict([('@currency', 'JPY'), ('@rate', '134.01')]),\n",
       " OrderedDict([('@currency', 'BGN'), ('@rate', '1.9558')]),\n",
       " OrderedDict([('@currency', 'CZK'), ('@rate', '26.046')]),\n",
       " OrderedDict([('@currency', 'DKK'), ('@rate', '7.4407')]),\n",
       " OrderedDict([('@currency', 'GBP'), ('@rate', '0.88155')]),\n",
       " OrderedDict([('@currency', 'HUF'), ('@rate', '309.73')]),\n",
       " OrderedDict([('@currency', 'PLN'), ('@rate', '4.2672')]),\n",
       " OrderedDict([('@currency', 'RON'), ('@rate', '4.5967')]),\n",
       " OrderedDict([('@currency', 'SEK'), ('@rate', '9.5358')]),\n",
       " OrderedDict([('@currency', 'CHF'), ('@rate', '1.1588')]),\n",
       " OrderedDict([('@currency', 'NOK'), ('@rate', '9.3193')]),\n",
       " OrderedDict([('@currency', 'HRK'), ('@rate', '7.4843')]),\n",
       " OrderedDict([('@currency', 'RUB'), ('@rate', '68.8885')]),\n",
       " OrderedDict([('@currency', 'TRY'), ('@rate', '4.1804')]),\n",
       " OrderedDict([('@currency', 'AUD'), ('@rate', '1.5011')]),\n",
       " OrderedDict([('@currency', 'BRL'), ('@rate', '3.7459')]),\n",
       " OrderedDict([('@currency', 'CAD'), ('@rate', '1.4675')]),\n",
       " OrderedDict([('@currency', 'CNY'), ('@rate', '7.8805')]),\n",
       " OrderedDict([('@currency', 'HKD'), ('@rate', '9.3414')]),\n",
       " OrderedDict([('@currency', 'IDR'), ('@rate', '15908.13')]),\n",
       " OrderedDict([('@currency', 'ILS'), ('@rate', '4.1755')]),\n",
       " OrderedDict([('@currency', 'INR'), ('@rate', '77.5010')]),\n",
       " OrderedDict([('@currency', 'KRW'), ('@rate', '1352.78')]),\n",
       " OrderedDict([('@currency', 'MXN'), ('@rate', '21.2905')]),\n",
       " OrderedDict([('@currency', 'MYR'), ('@rate', '5.0117')]),\n",
       " OrderedDict([('@currency', 'NZD'), ('@rate', '1.6336')]),\n",
       " OrderedDict([('@currency', 'PHP'), ('@rate', '60.532')]),\n",
       " OrderedDict([('@currency', 'SGD'), ('@rate', '1.6093')]),\n",
       " OrderedDict([('@currency', 'THB'), ('@rate', '39.579')]),\n",
       " OrderedDict([('@currency', 'ZAR'), ('@rate', '15.8359')])]"
      ]
     },
     "execution_count": 14,
     "metadata": {},
     "output_type": "execute_result"
    }
   ],
   "source": [
    "raw[u'gesmes:Envelope'][u'Cube'][u'Cube'][u'Cube']"
   ]
  },
  {
   "cell_type": "markdown",
   "metadata": {},
   "source": [
    "This is really stupid. The data is an array of small dictionaries each of size 1 containing the name of the currency and the rate.  We need to put the data in the correct format."
   ]
  },
  {
   "cell_type": "code",
   "execution_count": 15,
   "metadata": {
    "collapsed": false
   },
   "outputs": [],
   "source": [
    "stupid = raw[u'gesmes:Envelope'][u'Cube'][u'Cube'][u'Cube']\n",
    "\n",
    "Rates = { x['@currency']: float(x[u'@rate']) for x in stupid }"
   ]
  },
  {
   "cell_type": "markdown",
   "metadata": {},
   "source": [
    "Above, I used a construction called *comprehension*. Let me explain: assume you want a range of integers for some reason.  In python you call"
   ]
  },
  {
   "cell_type": "code",
   "execution_count": 17,
   "metadata": {
    "collapsed": false
   },
   "outputs": [
    {
     "data": {
      "text/plain": [
       "[0, 1, 2, 3, 4, 5, 6, 7, 8, 9]"
      ]
     },
     "execution_count": 17,
     "metadata": {},
     "output_type": "execute_result"
    }
   ],
   "source": [
    "list(range(10))"
   ]
  },
  {
   "cell_type": "code",
   "execution_count": 18,
   "metadata": {
    "collapsed": false
   },
   "outputs": [
    {
     "data": {
      "text/plain": [
       "[2, 3, 4, 5, 6, 7, 8, 9, 10, 11]"
      ]
     },
     "execution_count": 18,
     "metadata": {},
     "output_type": "execute_result"
    }
   ],
   "source": [
    "list(range(2,12))"
   ]
  },
  {
   "cell_type": "code",
   "execution_count": 19,
   "metadata": {
    "collapsed": false
   },
   "outputs": [
    {
     "data": {
      "text/plain": [
       "[24, 22, 20, 18, 16, 14, 12, 10, 8, 6, 4]"
      ]
     },
     "execution_count": 19,
     "metadata": {},
     "output_type": "execute_result"
    }
   ],
   "source": [
    "list(range(24,3,-2))"
   ]
  },
  {
   "cell_type": "markdown",
   "metadata": {},
   "source": [
    "But what if I want the squares of the even numbers between 2 and 26 stored in an array?"
   ]
  },
  {
   "cell_type": "code",
   "execution_count": 20,
   "metadata": {
    "collapsed": false
   },
   "outputs": [
    {
     "data": {
      "text/plain": [
       "[4, 16, 36, 64, 100, 144, 196, 256, 324, 400, 484, 576]"
      ]
     },
     "execution_count": 20,
     "metadata": {},
     "output_type": "execute_result"
    }
   ],
   "source": [
    "[ x*x for x in range(2,26,2) ]"
   ]
  },
  {
   "cell_type": "markdown",
   "metadata": {},
   "source": [
    "How about stored in a set?"
   ]
  },
  {
   "cell_type": "code",
   "execution_count": 21,
   "metadata": {
    "collapsed": false
   },
   "outputs": [
    {
     "data": {
      "text/plain": [
       "{4, 16, 36, 64, 100, 144, 196, 256, 324, 400, 484, 576}"
      ]
     },
     "execution_count": 21,
     "metadata": {},
     "output_type": "execute_result"
    }
   ],
   "source": [
    "{ x*x for x in range(2,26,2) }"
   ]
  },
  {
   "cell_type": "markdown",
   "metadata": {},
   "source": [
    "How about a dictionary?"
   ]
  },
  {
   "cell_type": "code",
   "execution_count": 23,
   "metadata": {
    "collapsed": false
   },
   "outputs": [
    {
     "data": {
      "text/plain": [
       "{'Index-10': 100,\n",
       " 'Index-12': 144,\n",
       " 'Index-14': 196,\n",
       " 'Index-16': 256,\n",
       " 'Index-18': 324,\n",
       " 'Index-2': 4,\n",
       " 'Index-20': 400,\n",
       " 'Index-22': 484,\n",
       " 'Index-24': 576,\n",
       " 'Index-4': 16,\n",
       " 'Index-6': 36,\n",
       " 'Index-8': 64}"
      ]
     },
     "execution_count": 23,
     "metadata": {},
     "output_type": "execute_result"
    }
   ],
   "source": [
    "{ \"Index-\"+str(i): i*i for i in range(2,26,2) }"
   ]
  },
  {
   "cell_type": "markdown",
   "metadata": {},
   "source": [
    "Let us check the contents of `stupid`:"
   ]
  },
  {
   "cell_type": "code",
   "execution_count": 24,
   "metadata": {
    "collapsed": false
   },
   "outputs": [
    {
     "data": {
      "text/plain": [
       "OrderedDict([('@currency', 'JPY'), ('@rate', '134.01')])"
      ]
     },
     "execution_count": 24,
     "metadata": {},
     "output_type": "execute_result"
    }
   ],
   "source": [
    "stupid[1]"
   ]
  },
  {
   "cell_type": "code",
   "execution_count": 25,
   "metadata": {
    "collapsed": false
   },
   "outputs": [
    {
     "data": {
      "text/plain": [
       "'JPY'"
      ]
     },
     "execution_count": 25,
     "metadata": {},
     "output_type": "execute_result"
    }
   ],
   "source": [
    "stupid[1][u'@currency']"
   ]
  },
  {
   "cell_type": "code",
   "execution_count": 26,
   "metadata": {
    "collapsed": false
   },
   "outputs": [
    {
     "data": {
      "text/plain": [
       "'134.01'"
      ]
     },
     "execution_count": 26,
     "metadata": {},
     "output_type": "execute_result"
    }
   ],
   "source": [
    "stupid[1][u'@rate']"
   ]
  },
  {
   "cell_type": "code",
   "execution_count": 27,
   "metadata": {
    "collapsed": false
   },
   "outputs": [],
   "source": [
    "Rates = { x['@currency']: float(x[u'@rate']) for x in stupid }"
   ]
  },
  {
   "cell_type": "code",
   "execution_count": 28,
   "metadata": {
    "collapsed": false
   },
   "outputs": [
    {
     "data": {
      "text/plain": [
       "{'AUD': 1.5011,\n",
       " 'BGN': 1.9558,\n",
       " 'BRL': 3.7459,\n",
       " 'CAD': 1.4675,\n",
       " 'CHF': 1.1588,\n",
       " 'CNY': 7.8805,\n",
       " 'CZK': 26.046,\n",
       " 'DKK': 7.4407,\n",
       " 'GBP': 0.88155,\n",
       " 'HKD': 9.3414,\n",
       " 'HRK': 7.4843,\n",
       " 'HUF': 309.73,\n",
       " 'IDR': 15908.13,\n",
       " 'ILS': 4.1755,\n",
       " 'INR': 77.501,\n",
       " 'JPY': 134.01,\n",
       " 'KRW': 1352.78,\n",
       " 'MXN': 21.2905,\n",
       " 'MYR': 5.0117,\n",
       " 'NOK': 9.3193,\n",
       " 'NZD': 1.6336,\n",
       " 'PHP': 60.532,\n",
       " 'PLN': 4.2672,\n",
       " 'RON': 4.5967,\n",
       " 'RUB': 68.8885,\n",
       " 'SEK': 9.5358,\n",
       " 'SGD': 1.6093,\n",
       " 'THB': 39.579,\n",
       " 'TRY': 4.1804,\n",
       " 'USD': 1.1961,\n",
       " 'ZAR': 15.8359}"
      ]
     },
     "execution_count": 28,
     "metadata": {},
     "output_type": "execute_result"
    }
   ],
   "source": [
    "Rates"
   ]
  },
  {
   "cell_type": "markdown",
   "metadata": {},
   "source": [
    "Notice that \"EUR\" is missing since this is a data from European Central Banks, the rates are all relative to \"EUR\". We add that extra:"
   ]
  },
  {
   "cell_type": "code",
   "execution_count": 29,
   "metadata": {
    "collapsed": false
   },
   "outputs": [],
   "source": [
    "Rates.update({u'EUR': 1.00})"
   ]
  },
  {
   "cell_type": "code",
   "execution_count": 30,
   "metadata": {
    "collapsed": false
   },
   "outputs": [
    {
     "data": {
      "text/plain": [
       "{'AUD': 1.5011,\n",
       " 'BGN': 1.9558,\n",
       " 'BRL': 3.7459,\n",
       " 'CAD': 1.4675,\n",
       " 'CHF': 1.1588,\n",
       " 'CNY': 7.8805,\n",
       " 'CZK': 26.046,\n",
       " 'DKK': 7.4407,\n",
       " 'EUR': 1.0,\n",
       " 'GBP': 0.88155,\n",
       " 'HKD': 9.3414,\n",
       " 'HRK': 7.4843,\n",
       " 'HUF': 309.73,\n",
       " 'IDR': 15908.13,\n",
       " 'ILS': 4.1755,\n",
       " 'INR': 77.501,\n",
       " 'JPY': 134.01,\n",
       " 'KRW': 1352.78,\n",
       " 'MXN': 21.2905,\n",
       " 'MYR': 5.0117,\n",
       " 'NOK': 9.3193,\n",
       " 'NZD': 1.6336,\n",
       " 'PHP': 60.532,\n",
       " 'PLN': 4.2672,\n",
       " 'RON': 4.5967,\n",
       " 'RUB': 68.8885,\n",
       " 'SEK': 9.5358,\n",
       " 'SGD': 1.6093,\n",
       " 'THB': 39.579,\n",
       " 'TRY': 4.1804,\n",
       " 'USD': 1.1961,\n",
       " 'ZAR': 15.8359}"
      ]
     },
     "execution_count": 30,
     "metadata": {},
     "output_type": "execute_result"
    }
   ],
   "source": [
    "Rates"
   ]
  },
  {
   "cell_type": "markdown",
   "metadata": {},
   "source": [
    "Now, let us recall our program:"
   ]
  },
  {
   "cell_type": "code",
   "execution_count": 31,
   "metadata": {
    "collapsed": false
   },
   "outputs": [
    {
     "name": "stdout",
     "output_type": "stream",
     "text": [
      "23.921155870251653\n"
     ]
    }
   ],
   "source": [
    "def Exchange(amount, source, target):\n",
    "    return(amount * Rates[target]/Rates[source])\n",
    "\n",
    "print(Exchange(100.0, \"TRY\", u'EUR'))"
   ]
  },
  {
   "cell_type": "markdown",
   "metadata": {},
   "source": [
    "Let me write a new function that updates the exchange rate dictionary:"
   ]
  },
  {
   "cell_type": "code",
   "execution_count": 32,
   "metadata": {
    "collapsed": false
   },
   "outputs": [],
   "source": [
    "def UpdateRates():\n",
    "    raw = xmltodict.parse(urllib.urlopen(\"http://www.ecb.europa.eu/stats/eurofxref/eurofxref-daily.xml\"))\n",
    "    core = raw[u'gesmes:Envelope'][u'Cube'][u'Cube'][u'Cube']\n",
    "    Rates = { x['@currency']: float(x[u'@rate']) for x in core }"
   ]
  },
  {
   "cell_type": "markdown",
   "metadata": {},
   "source": [
    "## A Finished Version\n",
    "\n",
    "I prefer to interact with my program on the command line.  So, I will everything together as follows:\n",
    "\n",
    "    ## Back End\n",
    "\n",
    "    import urllib\n",
    "    import xmltodict\n",
    "\n",
    "    URL = \"http://www.ecb.europa.eu/stats/eurofxref/eurofxref-daily.xml\"\n",
    "\n",
    "    def DownloadRates(localFile):\n",
    "      urllib.urlretrieve(URL, filename=localFile)\n",
    "\n",
    "    def GetRates(localFile):\n",
    "      raw = xmltodict.parse(open(localFile))\n",
    "      core = raw[u'gesmes:Envelope'][u'Cube'][u'Cube'][u'Cube']\n",
    "      Rates = { x['@currency']: float(x[u'@rate']) for x in core }\n",
    "      Rates.update({u'EUR': 1.00})\n",
    "      return(Rates)\n",
    "\n",
    "    def Exchange(Rates,amount,source,target):\n",
    "      return(amount * Rates[target]/Rates[source])\n",
    "\n",
    "\n",
    "    ## Front End\n",
    "\n",
    "    import sys\n",
    "\n",
    "    FILE = \"/home/kaygun/local/lib/rates.xml\"\n",
    "\n",
    "    if(sys.argv[1] == \"refresh\"):\n",
    "      DownloadRates(FILE)\n",
    "    elif(sys.argv[1] == \"list\"):\n",
    "      Rates = GetRates(FILE)\n",
    "      Currencies = Rates.keys()\n",
    "      Currencies.sort()\n",
    "      for x in Currencies:\n",
    "        print x, Rates[x]\n",
    "    else:\n",
    "      Rates = GetRates(FILE)\n",
    "      amount = float(sys.argv[1])\n",
    "      source = sys.argv[2]\n",
    "      target = sys.argv[3]\n",
    "      print str(amount), source, \"is\", \"{0:.2f}\".format(Exchange(Rates,amount,source,target)), target\n"
   ]
  }
 ],
 "metadata": {
  "kernelspec": {
   "display_name": "Python 3",
   "language": "python",
   "name": "python3"
  },
  "language_info": {
   "codemirror_mode": {
    "name": "ipython",
    "version": 3
   },
   "file_extension": ".py",
   "mimetype": "text/x-python",
   "name": "python",
   "nbconvert_exporter": "python",
   "pygments_lexer": "ipython3",
   "version": "3.5.4"
  }
 },
 "nbformat": 4,
 "nbformat_minor": 0
}

{
 "cells": [
  {
   "cell_type": "markdown",
   "metadata": {
    "deletable": true,
    "editable": true
   },
   "source": [
    "# Python Lectures (2)\n",
    "\n",
    "Last time we did a brief introduction. We were writing a small application that calculates currency exchange. This time we are going to extend the application by pulling the exchange rates from the web.  For that I am going to need two libraries:"
   ]
  },
  {
   "cell_type": "code",
   "execution_count": 1,
   "metadata": {
    "collapsed": false,
    "deletable": true,
    "editable": true
   },
   "outputs": [],
   "source": [
    "import urllib\n",
    "import xmltodict"
   ]
  },
  {
   "cell_type": "markdown",
   "metadata": {
    "deletable": true,
    "editable": true
   },
   "source": [
    "The first library `urllib` is for pulling content from the web, while the second `xmltodict` for parsing an XML stream into a python dictionary (map)."
   ]
  },
  {
   "cell_type": "code",
   "execution_count": 3,
   "metadata": {
    "collapsed": false,
    "deletable": true,
    "editable": true
   },
   "outputs": [],
   "source": [
    "raw = xmltodict.parse(urllib.request.urlopen(\"http://www.ecb.europa.eu/stats/eurofxref/eurofxref-daily.xml\"))"
   ]
  },
  {
   "cell_type": "markdown",
   "metadata": {
    "deletable": true,
    "editable": true
   },
   "source": [
    "[The European Central Bank](http://www.ecb.europa.eu/) keeps daily data on exchange rate at the URL you see above.  The data is kept in [XML](http://en.wikipedia.org/wiki/XML) format.  When we call the function `urllib.urlopen` on the URL, we get a python stream: something like a file.  Then the function `xmltodict.parse` parses the content of the stream into a python map.  The contents of the map complicated:"
   ]
  },
  {
   "cell_type": "code",
   "execution_count": 4,
   "metadata": {
    "collapsed": false,
    "deletable": true,
    "editable": true
   },
   "outputs": [
    {
     "data": {
      "text/plain": [
       "OrderedDict([('gesmes:Envelope',\n",
       "              OrderedDict([('@xmlns:gesmes',\n",
       "                            'http://www.gesmes.org/xml/2002-08-01'),\n",
       "                           ('@xmlns',\n",
       "                            'http://www.ecb.int/vocabulary/2002-08-01/eurofxref'),\n",
       "                           ('gesmes:subject', 'Reference rates'),\n",
       "                           ('gesmes:Sender',\n",
       "                            OrderedDict([('gesmes:name',\n",
       "                                          'European Central Bank')])),\n",
       "                           ('Cube',\n",
       "                            OrderedDict([('Cube',\n",
       "                                          OrderedDict([('@time', '2017-05-16'),\n",
       "                                                       ('Cube',\n",
       "                                                        [OrderedDict([('@currency',\n",
       "                                                                       'USD'),\n",
       "                                                                      ('@rate',\n",
       "                                                                       '1.1059')]),\n",
       "                                                         OrderedDict([('@currency',\n",
       "                                                                       'JPY'),\n",
       "                                                                      ('@rate',\n",
       "                                                                       '125.67')]),\n",
       "                                                         OrderedDict([('@currency',\n",
       "                                                                       'BGN'),\n",
       "                                                                      ('@rate',\n",
       "                                                                       '1.9558')]),\n",
       "                                                         OrderedDict([('@currency',\n",
       "                                                                       'CZK'),\n",
       "                                                                      ('@rate',\n",
       "                                                                       '26.420')]),\n",
       "                                                         OrderedDict([('@currency',\n",
       "                                                                       'DKK'),\n",
       "                                                                      ('@rate',\n",
       "                                                                       '7.4394')]),\n",
       "                                                         OrderedDict([('@currency',\n",
       "                                                                       'GBP'),\n",
       "                                                                      ('@rate',\n",
       "                                                                       '0.85868')]),\n",
       "                                                         OrderedDict([('@currency',\n",
       "                                                                       'HUF'),\n",
       "                                                                      ('@rate',\n",
       "                                                                       '309.54')]),\n",
       "                                                         OrderedDict([('@currency',\n",
       "                                                                       'PLN'),\n",
       "                                                                      ('@rate',\n",
       "                                                                       '4.1984')]),\n",
       "                                                         OrderedDict([('@currency',\n",
       "                                                                       'RON'),\n",
       "                                                                      ('@rate',\n",
       "                                                                       '4.5478')]),\n",
       "                                                         OrderedDict([('@currency',\n",
       "                                                                       'SEK'),\n",
       "                                                                      ('@rate',\n",
       "                                                                       '9.7215')]),\n",
       "                                                         OrderedDict([('@currency',\n",
       "                                                                       'CHF'),\n",
       "                                                                      ('@rate',\n",
       "                                                                       '1.0958')]),\n",
       "                                                         OrderedDict([('@currency',\n",
       "                                                                       'NOK'),\n",
       "                                                                      ('@rate',\n",
       "                                                                       '9.3918')]),\n",
       "                                                         OrderedDict([('@currency',\n",
       "                                                                       'HRK'),\n",
       "                                                                      ('@rate',\n",
       "                                                                       '7.4303')]),\n",
       "                                                         OrderedDict([('@currency',\n",
       "                                                                       'RUB'),\n",
       "                                                                      ('@rate',\n",
       "                                                                       '62.3000')]),\n",
       "                                                         OrderedDict([('@currency',\n",
       "                                                                       'TRY'),\n",
       "                                                                      ('@rate',\n",
       "                                                                       '3.9330')]),\n",
       "                                                         OrderedDict([('@currency',\n",
       "                                                                       'AUD'),\n",
       "                                                                      ('@rate',\n",
       "                                                                       '1.4920')]),\n",
       "                                                         OrderedDict([('@currency',\n",
       "                                                                       'BRL'),\n",
       "                                                                      ('@rate',\n",
       "                                                                       '3.4316')]),\n",
       "                                                         OrderedDict([('@currency',\n",
       "                                                                       'CAD'),\n",
       "                                                                      ('@rate',\n",
       "                                                                       '1.5058')]),\n",
       "                                                         OrderedDict([('@currency',\n",
       "                                                                       'CNY'),\n",
       "                                                                      ('@rate',\n",
       "                                                                       '7.6185')]),\n",
       "                                                         OrderedDict([('@currency',\n",
       "                                                                       'HKD'),\n",
       "                                                                      ('@rate',\n",
       "                                                                       '8.6143')]),\n",
       "                                                         OrderedDict([('@currency',\n",
       "                                                                       'IDR'),\n",
       "                                                                      ('@rate',\n",
       "                                                                       '14709.02')]),\n",
       "                                                         OrderedDict([('@currency',\n",
       "                                                                       'ILS'),\n",
       "                                                                      ('@rate',\n",
       "                                                                       '3.9874')]),\n",
       "                                                         OrderedDict([('@currency',\n",
       "                                                                       'INR'),\n",
       "                                                                      ('@rate',\n",
       "                                                                       '70.8505')]),\n",
       "                                                         OrderedDict([('@currency',\n",
       "                                                                       'KRW'),\n",
       "                                                                      ('@rate',\n",
       "                                                                       '1234.76')]),\n",
       "                                                         OrderedDict([('@currency',\n",
       "                                                                       'MXN'),\n",
       "                                                                      ('@rate',\n",
       "                                                                       '20.6886')]),\n",
       "                                                         OrderedDict([('@currency',\n",
       "                                                                       'MYR'),\n",
       "                                                                      ('@rate',\n",
       "                                                                       '4.7791')]),\n",
       "                                                         OrderedDict([('@currency',\n",
       "                                                                       'NZD'),\n",
       "                                                                      ('@rate',\n",
       "                                                                       '1.6090')]),\n",
       "                                                         OrderedDict([('@currency',\n",
       "                                                                       'PHP'),\n",
       "                                                                      ('@rate',\n",
       "                                                                       '54.898')]),\n",
       "                                                         OrderedDict([('@currency',\n",
       "                                                                       'SGD'),\n",
       "                                                                      ('@rate',\n",
       "                                                                       '1.5457')]),\n",
       "                                                         OrderedDict([('@currency',\n",
       "                                                                       'THB'),\n",
       "                                                                      ('@rate',\n",
       "                                                                       '38.187')]),\n",
       "                                                         OrderedDict([('@currency',\n",
       "                                                                       'ZAR'),\n",
       "                                                                      ('@rate',\n",
       "                                                                       '14.5287')])])]))]))]))])"
      ]
     },
     "execution_count": 4,
     "metadata": {},
     "output_type": "execute_result"
    }
   ],
   "source": [
    "raw"
   ]
  },
  {
   "cell_type": "markdown",
   "metadata": {
    "deletable": true,
    "editable": true
   },
   "source": [
    "Everything in python is an object, and objects have admits interfaces. Maps have two fundamental interfaces: keys and values."
   ]
  },
  {
   "cell_type": "code",
   "execution_count": 5,
   "metadata": {
    "collapsed": false,
    "deletable": true,
    "editable": true
   },
   "outputs": [
    {
     "name": "stdout",
     "output_type": "stream",
     "text": [
      "dict_keys(['EUR', 'BITCOIN', 'US', 'TRY'])\n",
      "dict_values([0.8, 0.0026, 1.0, 2.24])\n"
     ]
    }
   ],
   "source": [
    "Rates = {\"US\": 1.0, \"EUR\": 0.8, \"TRY\": 2.24, \"BITCOIN\": 0.0026}\n",
    "\n",
    "print(Rates.keys())\n",
    "print(Rates.values())"
   ]
  },
  {
   "cell_type": "markdown",
   "metadata": {
    "deletable": true,
    "editable": true
   },
   "source": [
    "So, let us see what the keys are in the raw data we pulled of from the European Central Bank:"
   ]
  },
  {
   "cell_type": "code",
   "execution_count": 6,
   "metadata": {
    "collapsed": false,
    "deletable": true,
    "editable": true
   },
   "outputs": [
    {
     "data": {
      "text/plain": [
       "odict_keys(['gesmes:Envelope'])"
      ]
     },
     "execution_count": 6,
     "metadata": {},
     "output_type": "execute_result"
    }
   ],
   "source": [
    "raw.keys()"
   ]
  },
  {
   "cell_type": "markdown",
   "metadata": {
    "deletable": true,
    "editable": true
   },
   "source": [
    "This is funny. There is only one key. If you do data analysis long enough, you'll see that XML, or JSON, data you pulled is structured as smartly (or stupidly) as the people who design them.  Let us move in recursively:"
   ]
  },
  {
   "cell_type": "code",
   "execution_count": 7,
   "metadata": {
    "collapsed": false,
    "deletable": true,
    "editable": true
   },
   "outputs": [
    {
     "data": {
      "text/plain": [
       "OrderedDict([('@xmlns:gesmes', 'http://www.gesmes.org/xml/2002-08-01'),\n",
       "             ('@xmlns', 'http://www.ecb.int/vocabulary/2002-08-01/eurofxref'),\n",
       "             ('gesmes:subject', 'Reference rates'),\n",
       "             ('gesmes:Sender',\n",
       "              OrderedDict([('gesmes:name', 'European Central Bank')])),\n",
       "             ('Cube',\n",
       "              OrderedDict([('Cube',\n",
       "                            OrderedDict([('@time', '2017-05-16'),\n",
       "                                         ('Cube',\n",
       "                                          [OrderedDict([('@currency', 'USD'),\n",
       "                                                        ('@rate', '1.1059')]),\n",
       "                                           OrderedDict([('@currency', 'JPY'),\n",
       "                                                        ('@rate', '125.67')]),\n",
       "                                           OrderedDict([('@currency', 'BGN'),\n",
       "                                                        ('@rate', '1.9558')]),\n",
       "                                           OrderedDict([('@currency', 'CZK'),\n",
       "                                                        ('@rate', '26.420')]),\n",
       "                                           OrderedDict([('@currency', 'DKK'),\n",
       "                                                        ('@rate', '7.4394')]),\n",
       "                                           OrderedDict([('@currency', 'GBP'),\n",
       "                                                        ('@rate', '0.85868')]),\n",
       "                                           OrderedDict([('@currency', 'HUF'),\n",
       "                                                        ('@rate', '309.54')]),\n",
       "                                           OrderedDict([('@currency', 'PLN'),\n",
       "                                                        ('@rate', '4.1984')]),\n",
       "                                           OrderedDict([('@currency', 'RON'),\n",
       "                                                        ('@rate', '4.5478')]),\n",
       "                                           OrderedDict([('@currency', 'SEK'),\n",
       "                                                        ('@rate', '9.7215')]),\n",
       "                                           OrderedDict([('@currency', 'CHF'),\n",
       "                                                        ('@rate', '1.0958')]),\n",
       "                                           OrderedDict([('@currency', 'NOK'),\n",
       "                                                        ('@rate', '9.3918')]),\n",
       "                                           OrderedDict([('@currency', 'HRK'),\n",
       "                                                        ('@rate', '7.4303')]),\n",
       "                                           OrderedDict([('@currency', 'RUB'),\n",
       "                                                        ('@rate', '62.3000')]),\n",
       "                                           OrderedDict([('@currency', 'TRY'),\n",
       "                                                        ('@rate', '3.9330')]),\n",
       "                                           OrderedDict([('@currency', 'AUD'),\n",
       "                                                        ('@rate', '1.4920')]),\n",
       "                                           OrderedDict([('@currency', 'BRL'),\n",
       "                                                        ('@rate', '3.4316')]),\n",
       "                                           OrderedDict([('@currency', 'CAD'),\n",
       "                                                        ('@rate', '1.5058')]),\n",
       "                                           OrderedDict([('@currency', 'CNY'),\n",
       "                                                        ('@rate', '7.6185')]),\n",
       "                                           OrderedDict([('@currency', 'HKD'),\n",
       "                                                        ('@rate', '8.6143')]),\n",
       "                                           OrderedDict([('@currency', 'IDR'),\n",
       "                                                        ('@rate',\n",
       "                                                         '14709.02')]),\n",
       "                                           OrderedDict([('@currency', 'ILS'),\n",
       "                                                        ('@rate', '3.9874')]),\n",
       "                                           OrderedDict([('@currency', 'INR'),\n",
       "                                                        ('@rate', '70.8505')]),\n",
       "                                           OrderedDict([('@currency', 'KRW'),\n",
       "                                                        ('@rate', '1234.76')]),\n",
       "                                           OrderedDict([('@currency', 'MXN'),\n",
       "                                                        ('@rate', '20.6886')]),\n",
       "                                           OrderedDict([('@currency', 'MYR'),\n",
       "                                                        ('@rate', '4.7791')]),\n",
       "                                           OrderedDict([('@currency', 'NZD'),\n",
       "                                                        ('@rate', '1.6090')]),\n",
       "                                           OrderedDict([('@currency', 'PHP'),\n",
       "                                                        ('@rate', '54.898')]),\n",
       "                                           OrderedDict([('@currency', 'SGD'),\n",
       "                                                        ('@rate', '1.5457')]),\n",
       "                                           OrderedDict([('@currency', 'THB'),\n",
       "                                                        ('@rate', '38.187')]),\n",
       "                                           OrderedDict([('@currency', 'ZAR'),\n",
       "                                                        ('@rate',\n",
       "                                                         '14.5287')])])]))]))])"
      ]
     },
     "execution_count": 7,
     "metadata": {},
     "output_type": "execute_result"
    }
   ],
   "source": [
    "raw[u'gesmes:Envelope']"
   ]
  },
  {
   "cell_type": "markdown",
   "metadata": {
    "deletable": true,
    "editable": true
   },
   "source": [
    "Another map/dictionary! Hmm... The keys?"
   ]
  },
  {
   "cell_type": "code",
   "execution_count": 8,
   "metadata": {
    "collapsed": false,
    "deletable": true,
    "editable": true
   },
   "outputs": [
    {
     "data": {
      "text/plain": [
       "odict_keys(['@xmlns:gesmes', '@xmlns', 'gesmes:subject', 'gesmes:Sender', 'Cube'])"
      ]
     },
     "execution_count": 8,
     "metadata": {},
     "output_type": "execute_result"
    }
   ],
   "source": [
    "raw[u'gesmes:Envelope'].keys()"
   ]
  },
  {
   "cell_type": "code",
   "execution_count": 9,
   "metadata": {
    "collapsed": false,
    "deletable": true,
    "editable": true
   },
   "outputs": [
    {
     "data": {
      "text/plain": [
       "[OrderedDict([('@currency', 'USD'), ('@rate', '1.1059')]),\n",
       " OrderedDict([('@currency', 'JPY'), ('@rate', '125.67')]),\n",
       " OrderedDict([('@currency', 'BGN'), ('@rate', '1.9558')]),\n",
       " OrderedDict([('@currency', 'CZK'), ('@rate', '26.420')]),\n",
       " OrderedDict([('@currency', 'DKK'), ('@rate', '7.4394')]),\n",
       " OrderedDict([('@currency', 'GBP'), ('@rate', '0.85868')]),\n",
       " OrderedDict([('@currency', 'HUF'), ('@rate', '309.54')]),\n",
       " OrderedDict([('@currency', 'PLN'), ('@rate', '4.1984')]),\n",
       " OrderedDict([('@currency', 'RON'), ('@rate', '4.5478')]),\n",
       " OrderedDict([('@currency', 'SEK'), ('@rate', '9.7215')]),\n",
       " OrderedDict([('@currency', 'CHF'), ('@rate', '1.0958')]),\n",
       " OrderedDict([('@currency', 'NOK'), ('@rate', '9.3918')]),\n",
       " OrderedDict([('@currency', 'HRK'), ('@rate', '7.4303')]),\n",
       " OrderedDict([('@currency', 'RUB'), ('@rate', '62.3000')]),\n",
       " OrderedDict([('@currency', 'TRY'), ('@rate', '3.9330')]),\n",
       " OrderedDict([('@currency', 'AUD'), ('@rate', '1.4920')]),\n",
       " OrderedDict([('@currency', 'BRL'), ('@rate', '3.4316')]),\n",
       " OrderedDict([('@currency', 'CAD'), ('@rate', '1.5058')]),\n",
       " OrderedDict([('@currency', 'CNY'), ('@rate', '7.6185')]),\n",
       " OrderedDict([('@currency', 'HKD'), ('@rate', '8.6143')]),\n",
       " OrderedDict([('@currency', 'IDR'), ('@rate', '14709.02')]),\n",
       " OrderedDict([('@currency', 'ILS'), ('@rate', '3.9874')]),\n",
       " OrderedDict([('@currency', 'INR'), ('@rate', '70.8505')]),\n",
       " OrderedDict([('@currency', 'KRW'), ('@rate', '1234.76')]),\n",
       " OrderedDict([('@currency', 'MXN'), ('@rate', '20.6886')]),\n",
       " OrderedDict([('@currency', 'MYR'), ('@rate', '4.7791')]),\n",
       " OrderedDict([('@currency', 'NZD'), ('@rate', '1.6090')]),\n",
       " OrderedDict([('@currency', 'PHP'), ('@rate', '54.898')]),\n",
       " OrderedDict([('@currency', 'SGD'), ('@rate', '1.5457')]),\n",
       " OrderedDict([('@currency', 'THB'), ('@rate', '38.187')]),\n",
       " OrderedDict([('@currency', 'ZAR'), ('@rate', '14.5287')])]"
      ]
     },
     "execution_count": 9,
     "metadata": {},
     "output_type": "execute_result"
    }
   ],
   "source": [
    "raw[u'gesmes:Envelope'][u'Cube'][u'Cube'][u'Cube']"
   ]
  },
  {
   "cell_type": "markdown",
   "metadata": {
    "deletable": true,
    "editable": true
   },
   "source": [
    "This is really stupid. The data is an array of small dictionaries each of size 1 containing the name of the currency and the rate.  We need to put the data in the correct format."
   ]
  },
  {
   "cell_type": "code",
   "execution_count": 10,
   "metadata": {
    "collapsed": false,
    "deletable": true,
    "editable": true
   },
   "outputs": [],
   "source": [
    "stupid = raw[u'gesmes:Envelope'][u'Cube'][u'Cube'][u'Cube']\n",
    "\n",
    "Rates = { x['@currency']: float(x[u'@rate']) for x in stupid }"
   ]
  },
  {
   "cell_type": "markdown",
   "metadata": {
    "deletable": true,
    "editable": true
   },
   "source": [
    "Above, I used a construction called *comprehension*. Let me explain: assume you want a range of integers for some reason.  In python you call"
   ]
  },
  {
   "cell_type": "code",
   "execution_count": 11,
   "metadata": {
    "collapsed": false,
    "deletable": true,
    "editable": true
   },
   "outputs": [
    {
     "data": {
      "text/plain": [
       "range(0, 10)"
      ]
     },
     "execution_count": 11,
     "metadata": {},
     "output_type": "execute_result"
    }
   ],
   "source": [
    "range(10)"
   ]
  },
  {
   "cell_type": "code",
   "execution_count": 12,
   "metadata": {
    "collapsed": false,
    "deletable": true,
    "editable": true
   },
   "outputs": [
    {
     "data": {
      "text/plain": [
       "range(2, 12)"
      ]
     },
     "execution_count": 12,
     "metadata": {},
     "output_type": "execute_result"
    }
   ],
   "source": [
    "range(2,12)"
   ]
  },
  {
   "cell_type": "code",
   "execution_count": 13,
   "metadata": {
    "collapsed": false,
    "deletable": true,
    "editable": true
   },
   "outputs": [
    {
     "data": {
      "text/plain": [
       "range(24, 3, -2)"
      ]
     },
     "execution_count": 13,
     "metadata": {},
     "output_type": "execute_result"
    }
   ],
   "source": [
    "range(24,3,-2)"
   ]
  },
  {
   "cell_type": "markdown",
   "metadata": {
    "deletable": true,
    "editable": true
   },
   "source": [
    "But what if I want the squares of the even numbers between 2 and 26 stored in an array?"
   ]
  },
  {
   "cell_type": "code",
   "execution_count": 14,
   "metadata": {
    "collapsed": false,
    "deletable": true,
    "editable": true
   },
   "outputs": [
    {
     "data": {
      "text/plain": [
       "[4, 16, 36, 64, 100, 144, 196, 256, 324, 400, 484, 576]"
      ]
     },
     "execution_count": 14,
     "metadata": {},
     "output_type": "execute_result"
    }
   ],
   "source": [
    "[x*x for x in range(2,26,2)]"
   ]
  },
  {
   "cell_type": "markdown",
   "metadata": {
    "deletable": true,
    "editable": true
   },
   "source": [
    "How about stored in a set?"
   ]
  },
  {
   "cell_type": "code",
   "execution_count": 15,
   "metadata": {
    "collapsed": false,
    "deletable": true,
    "editable": true
   },
   "outputs": [
    {
     "data": {
      "text/plain": [
       "{4, 16, 36, 64, 100, 144, 196, 256, 324, 400, 484, 576}"
      ]
     },
     "execution_count": 15,
     "metadata": {},
     "output_type": "execute_result"
    }
   ],
   "source": [
    "{x*x for x in range(2,26,2)}"
   ]
  },
  {
   "cell_type": "markdown",
   "metadata": {
    "deletable": true,
    "editable": true
   },
   "source": [
    "How about a dictionary?"
   ]
  },
  {
   "cell_type": "code",
   "execution_count": 16,
   "metadata": {
    "collapsed": false,
    "deletable": true,
    "editable": true
   },
   "outputs": [
    {
     "data": {
      "text/plain": [
       "{'Index-10': 100,\n",
       " 'Index-12': 144,\n",
       " 'Index-14': 196,\n",
       " 'Index-16': 256,\n",
       " 'Index-18': 324,\n",
       " 'Index-2': 4,\n",
       " 'Index-20': 400,\n",
       " 'Index-22': 484,\n",
       " 'Index-24': 576,\n",
       " 'Index-4': 16,\n",
       " 'Index-6': 36,\n",
       " 'Index-8': 64}"
      ]
     },
     "execution_count": 16,
     "metadata": {},
     "output_type": "execute_result"
    }
   ],
   "source": [
    "{ \"Index-\"+str(i): i*i for i in range(2,26,2) }"
   ]
  },
  {
   "cell_type": "markdown",
   "metadata": {
    "deletable": true,
    "editable": true
   },
   "source": [
    "Let us check the contents of `stupid`:"
   ]
  },
  {
   "cell_type": "code",
   "execution_count": 17,
   "metadata": {
    "collapsed": false,
    "deletable": true,
    "editable": true
   },
   "outputs": [
    {
     "data": {
      "text/plain": [
       "OrderedDict([('@currency', 'JPY'), ('@rate', '125.67')])"
      ]
     },
     "execution_count": 17,
     "metadata": {},
     "output_type": "execute_result"
    }
   ],
   "source": [
    "stupid[1]"
   ]
  },
  {
   "cell_type": "code",
   "execution_count": 18,
   "metadata": {
    "collapsed": false,
    "deletable": true,
    "editable": true
   },
   "outputs": [
    {
     "data": {
      "text/plain": [
       "'JPY'"
      ]
     },
     "execution_count": 18,
     "metadata": {},
     "output_type": "execute_result"
    }
   ],
   "source": [
    "stupid[1][u'@currency']"
   ]
  },
  {
   "cell_type": "code",
   "execution_count": 19,
   "metadata": {
    "collapsed": false,
    "deletable": true,
    "editable": true
   },
   "outputs": [
    {
     "data": {
      "text/plain": [
       "'125.67'"
      ]
     },
     "execution_count": 19,
     "metadata": {},
     "output_type": "execute_result"
    }
   ],
   "source": [
    "stupid[1][u'@rate']"
   ]
  },
  {
   "cell_type": "code",
   "execution_count": 20,
   "metadata": {
    "collapsed": false,
    "deletable": true,
    "editable": true
   },
   "outputs": [],
   "source": [
    "Rates = { x['@currency']: float(x[u'@rate']) for x in stupid }"
   ]
  },
  {
   "cell_type": "code",
   "execution_count": 21,
   "metadata": {
    "collapsed": false,
    "deletable": true,
    "editable": true
   },
   "outputs": [
    {
     "data": {
      "text/plain": [
       "{'AUD': 1.492,\n",
       " 'BGN': 1.9558,\n",
       " 'BRL': 3.4316,\n",
       " 'CAD': 1.5058,\n",
       " 'CHF': 1.0958,\n",
       " 'CNY': 7.6185,\n",
       " 'CZK': 26.42,\n",
       " 'DKK': 7.4394,\n",
       " 'GBP': 0.85868,\n",
       " 'HKD': 8.6143,\n",
       " 'HRK': 7.4303,\n",
       " 'HUF': 309.54,\n",
       " 'IDR': 14709.02,\n",
       " 'ILS': 3.9874,\n",
       " 'INR': 70.8505,\n",
       " 'JPY': 125.67,\n",
       " 'KRW': 1234.76,\n",
       " 'MXN': 20.6886,\n",
       " 'MYR': 4.7791,\n",
       " 'NOK': 9.3918,\n",
       " 'NZD': 1.609,\n",
       " 'PHP': 54.898,\n",
       " 'PLN': 4.1984,\n",
       " 'RON': 4.5478,\n",
       " 'RUB': 62.3,\n",
       " 'SEK': 9.7215,\n",
       " 'SGD': 1.5457,\n",
       " 'THB': 38.187,\n",
       " 'TRY': 3.933,\n",
       " 'USD': 1.1059,\n",
       " 'ZAR': 14.5287}"
      ]
     },
     "execution_count": 21,
     "metadata": {},
     "output_type": "execute_result"
    }
   ],
   "source": [
    "Rates"
   ]
  },
  {
   "cell_type": "markdown",
   "metadata": {
    "deletable": true,
    "editable": true
   },
   "source": [
    "Notice that \"EUR\" is missing since this is a data from European Central Banks, the rates are all relative to \"EUR\". We add that extra:"
   ]
  },
  {
   "cell_type": "code",
   "execution_count": 22,
   "metadata": {
    "collapsed": false,
    "deletable": true,
    "editable": true
   },
   "outputs": [],
   "source": [
    "Rates.update({u'EUR': 1.00})"
   ]
  },
  {
   "cell_type": "code",
   "execution_count": 23,
   "metadata": {
    "collapsed": false,
    "deletable": true,
    "editable": true
   },
   "outputs": [
    {
     "data": {
      "text/plain": [
       "{'AUD': 1.492,\n",
       " 'BGN': 1.9558,\n",
       " 'BRL': 3.4316,\n",
       " 'CAD': 1.5058,\n",
       " 'CHF': 1.0958,\n",
       " 'CNY': 7.6185,\n",
       " 'CZK': 26.42,\n",
       " 'DKK': 7.4394,\n",
       " 'EUR': 1.0,\n",
       " 'GBP': 0.85868,\n",
       " 'HKD': 8.6143,\n",
       " 'HRK': 7.4303,\n",
       " 'HUF': 309.54,\n",
       " 'IDR': 14709.02,\n",
       " 'ILS': 3.9874,\n",
       " 'INR': 70.8505,\n",
       " 'JPY': 125.67,\n",
       " 'KRW': 1234.76,\n",
       " 'MXN': 20.6886,\n",
       " 'MYR': 4.7791,\n",
       " 'NOK': 9.3918,\n",
       " 'NZD': 1.609,\n",
       " 'PHP': 54.898,\n",
       " 'PLN': 4.1984,\n",
       " 'RON': 4.5478,\n",
       " 'RUB': 62.3,\n",
       " 'SEK': 9.7215,\n",
       " 'SGD': 1.5457,\n",
       " 'THB': 38.187,\n",
       " 'TRY': 3.933,\n",
       " 'USD': 1.1059,\n",
       " 'ZAR': 14.5287}"
      ]
     },
     "execution_count": 23,
     "metadata": {},
     "output_type": "execute_result"
    }
   ],
   "source": [
    "Rates"
   ]
  },
  {
   "cell_type": "markdown",
   "metadata": {
    "deletable": true,
    "editable": true
   },
   "source": [
    "Now, let us recall our program:"
   ]
  },
  {
   "cell_type": "code",
   "execution_count": 24,
   "metadata": {
    "collapsed": false,
    "deletable": true,
    "editable": true
   },
   "outputs": [
    {
     "name": "stdout",
     "output_type": "stream",
     "text": [
      "25.425883549453346\n"
     ]
    }
   ],
   "source": [
    "def Exchange(amount, source, target):\n",
    "    return(amount * Rates[target]/Rates[source])\n",
    "\n",
    "print(Exchange(100.0, \"TRY\", u'EUR'))"
   ]
  },
  {
   "cell_type": "markdown",
   "metadata": {
    "deletable": true,
    "editable": true
   },
   "source": [
    "Let me write a new function that updates the exchange rate dictionary:"
   ]
  },
  {
   "cell_type": "code",
   "execution_count": 25,
   "metadata": {
    "collapsed": false,
    "deletable": true,
    "editable": true
   },
   "outputs": [],
   "source": [
    "def UpdateRates():\n",
    "    raw = xmltodict.parse(urllib.urlopen(\"http://www.ecb.europa.eu/stats/eurofxref/eurofxref-daily.xml\"))\n",
    "    core = raw[u'gesmes:Envelope'][u'Cube'][u'Cube'][u'Cube']\n",
    "    Rates = { x['@currency']: float(x[u'@rate']) for x in core }"
   ]
  },
  {
   "cell_type": "markdown",
   "metadata": {
    "deletable": true,
    "editable": true
   },
   "source": [
    "## A Finished Version\n",
    "\n",
    "I prefer to interact with my program on the command line.  So, I will everything together as follows:\n",
    "\n",
    "    ## Back End\n",
    "\n",
    "    import urllib\n",
    "    import xmltodict\n",
    "\n",
    "    URL = \"http://www.ecb.europa.eu/stats/eurofxref/eurofxref-daily.xml\"\n",
    "\n",
    "    def DownloadRates(localFile):\n",
    "      urllib.urlretrieve(URL, filename=localFile)\n",
    "\n",
    "    def GetRates(localFile):\n",
    "      raw = xmltodict.parse(open(localFile))\n",
    "      core = raw[u'gesmes:Envelope'][u'Cube'][u'Cube'][u'Cube']\n",
    "      Rates = { x['@currency']: float(x[u'@rate']) for x in core }\n",
    "      Rates.update({u'EUR': 1.00})\n",
    "      return(Rates)\n",
    "\n",
    "    def Exchange(Rates,amount,source,target):\n",
    "      return(amount * Rates[target]/Rates[source])\n",
    "\n",
    "\n",
    "    ## Front End\n",
    "\n",
    "    import sys\n",
    "\n",
    "    FILE = \"/home/kaygun/local/lib/rates.xml\"\n",
    "\n",
    "    if(sys.argv[1] == \"refresh\"):\n",
    "      DownloadRates(FILE)\n",
    "    elif(sys.argv[1] == \"list\"):\n",
    "      Rates = GetRates(FILE)\n",
    "      Currencies = Rates.keys()\n",
    "      Currencies.sort()\n",
    "      for x in Currencies:\n",
    "        print x, Rates[x]\n",
    "    else:\n",
    "      Rates = GetRates(FILE)\n",
    "      amount = float(sys.argv[1])\n",
    "      source = sys.argv[2]\n",
    "      target = sys.argv[3]\n",
    "      print str(amount), source, \"is\", \"{0:.2f}\".format(Exchange(Rates,amount,source,target)), target\n"
   ]
  }
 ],
 "metadata": {
  "kernelspec": {
   "display_name": "Python 3",
   "language": "python",
   "name": "python3"
  },
  "language_info": {
   "codemirror_mode": {
    "name": "ipython",
    "version": 3
   },
   "file_extension": ".py",
   "mimetype": "text/x-python",
   "name": "python",
   "nbconvert_exporter": "python",
   "pygments_lexer": "ipython3",
   "version": "3.5.2"
  }
 },
 "nbformat": 4,
 "nbformat_minor": 0
}

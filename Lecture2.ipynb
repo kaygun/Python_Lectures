{
 "metadata": {
  "name": "",
  "signature": "sha256:5f9a96e2fef3841d9fa35169b0624305c1911f01a501104bbb5718e503827665"
 },
 "nbformat": 3,
 "nbformat_minor": 0,
 "worksheets": [
  {
   "cells": [
    {
     "cell_type": "markdown",
     "metadata": {},
     "source": [
      "# Python Lectures (2)\n",
      "\n",
      "Last time we did a brief introduction. We were writing a small application that calculates currency exchange. This time we are going to extend the application by pulling the exchange rates from the web.  For that I am going to need two libraries:"
     ]
    },
    {
     "cell_type": "code",
     "collapsed": false,
     "input": [
      "import urllib\n",
      "import xmltodict"
     ],
     "language": "python",
     "metadata": {},
     "outputs": [],
     "prompt_number": 1
    },
    {
     "cell_type": "markdown",
     "metadata": {},
     "source": [
      "The first library `urllib` is for pulling content from the web, while the second `xmltodict` for parsing an XML stream into a python dictionary (map)."
     ]
    },
    {
     "cell_type": "code",
     "collapsed": false,
     "input": [
      "raw = xmltodict.parse(urllib.urlopen(\"http://www.ecb.europa.eu/stats/eurofxref/eurofxref-daily.xml\"))"
     ],
     "language": "python",
     "metadata": {},
     "outputs": [],
     "prompt_number": 2
    },
    {
     "cell_type": "markdown",
     "metadata": {},
     "source": [
      "[The European Central Bank](http://www.ecb.europa.eu/) keeps daily data on exchange rate at the URL you see above.  The data is kept in [XML](http://en.wikipedia.org/wiki/XML) format.  When we call the function `urllib.urlopen` on the URL, we get a python stream: something like a file.  Then the function `xmltodict.parse` parses the content of the stream into a python map.  The contents of the map complicated:"
     ]
    },
    {
     "cell_type": "code",
     "collapsed": false,
     "input": [
      "raw"
     ],
     "language": "python",
     "metadata": {},
     "outputs": [
      {
       "metadata": {},
       "output_type": "pyout",
       "prompt_number": 3,
       "text": [
        "OrderedDict([(u'gesmes:Envelope', OrderedDict([(u'@xmlns:gesmes', u'http://www.gesmes.org/xml/2002-08-01'), (u'@xmlns', u'http://www.ecb.int/vocabulary/2002-08-01/eurofxref'), (u'gesmes:subject', u'Reference rates'), (u'gesmes:Sender', OrderedDict([(u'gesmes:name', u'European Central Bank')])), (u'Cube', OrderedDict([(u'Cube', OrderedDict([(u'@time', u'2014-11-27'), (u'Cube', [OrderedDict([(u'@currency', u'USD'), (u'@rate', u'1.2480')]), OrderedDict([(u'@currency', u'JPY'), (u'@rate', u'146.67')]), OrderedDict([(u'@currency', u'BGN'), (u'@rate', u'1.9558')]), OrderedDict([(u'@currency', u'CZK'), (u'@rate', u'27.609')]), OrderedDict([(u'@currency', u'DKK'), (u'@rate', u'7.4397')]), OrderedDict([(u'@currency', u'GBP'), (u'@rate', u'0.79200')]), OrderedDict([(u'@currency', u'HUF'), (u'@rate', u'307.14')]), OrderedDict([(u'@currency', u'LTL'), (u'@rate', u'3.4528')]), OrderedDict([(u'@currency', u'PLN'), (u'@rate', u'4.1798')]), OrderedDict([(u'@currency', u'RON'), (u'@rate', u'4.4205')]), OrderedDict([(u'@currency', u'SEK'), (u'@rate', u'9.2613')]), OrderedDict([(u'@currency', u'CHF'), (u'@rate', u'1.2022')]), OrderedDict([(u'@currency', u'NOK'), (u'@rate', u'8.5970')]), OrderedDict([(u'@currency', u'HRK'), (u'@rate', u'7.6770')]), OrderedDict([(u'@currency', u'RUB'), (u'@rate', u'58.6680')]), OrderedDict([(u'@currency', u'TRY'), (u'@rate', u'2.7664')]), OrderedDict([(u'@currency', u'AUD'), (u'@rate', u'1.4560')]), OrderedDict([(u'@currency', u'BRL'), (u'@rate', u'3.1346')]), OrderedDict([(u'@currency', u'CAD'), (u'@rate', u'1.4039')]), OrderedDict([(u'@currency', u'CNY'), (u'@rate', u'7.6610')]), OrderedDict([(u'@currency', u'HKD'), (u'@rate', u'9.6752')]), OrderedDict([(u'@currency', u'IDR'), (u'@rate', u'15184.96')]), OrderedDict([(u'@currency', u'ILS'), (u'@rate', u'4.8510')]), OrderedDict([(u'@currency', u'INR'), (u'@rate', u'77.2200')]), OrderedDict([(u'@currency', u'KRW'), (u'@rate', u'1372.39')]), OrderedDict([(u'@currency', u'MXN'), (u'@rate', u'17.1266')]), OrderedDict([(u'@currency', u'MYR'), (u'@rate', u'4.1764')]), OrderedDict([(u'@currency', u'NZD'), (u'@rate', u'1.5807')]), OrderedDict([(u'@currency', u'PHP'), (u'@rate', u'55.994')]), OrderedDict([(u'@currency', u'SGD'), (u'@rate', u'1.6202')]), OrderedDict([(u'@currency', u'THB'), (u'@rate', u'40.897')]), OrderedDict([(u'@currency', u'ZAR'), (u'@rate', u'13.6833')])])]))]))]))])"
       ]
      }
     ],
     "prompt_number": 3
    },
    {
     "cell_type": "markdown",
     "metadata": {},
     "source": [
      "Everything in python is an object, and objects have admits interfaces. Maps have two fundamental interfaces: keys and values."
     ]
    },
    {
     "cell_type": "code",
     "collapsed": false,
     "input": [
      "Rates = {\"US\": 1.0, \"EUR\": 0.8, \"TRY\": 2.24, \"BITCOIN\": 0.0026}\n",
      "\n",
      "print(Rates.keys())\n",
      "print(Rates.values())"
     ],
     "language": "python",
     "metadata": {},
     "outputs": [
      {
       "output_type": "stream",
       "stream": "stdout",
       "text": [
        "['TRY', 'BITCOIN', 'US', 'EUR']\n",
        "[2.24, 0.0026, 1.0, 0.8]\n"
       ]
      }
     ],
     "prompt_number": 4
    },
    {
     "cell_type": "markdown",
     "metadata": {},
     "source": [
      "So, let us see what the keys are in the raw data we pulled of from the European Central Bank:"
     ]
    },
    {
     "cell_type": "code",
     "collapsed": false,
     "input": [
      "raw.keys()"
     ],
     "language": "python",
     "metadata": {},
     "outputs": [
      {
       "metadata": {},
       "output_type": "pyout",
       "prompt_number": 5,
       "text": [
        "[u'gesmes:Envelope']"
       ]
      }
     ],
     "prompt_number": 5
    },
    {
     "cell_type": "markdown",
     "metadata": {},
     "source": [
      "This is funny. There is only one key. If you do data analysis long enough, you'll see that XML, or JSON, data you pulled is structured as smartly (or stupidly) as the people who design them.  Let us move in recursively:"
     ]
    },
    {
     "cell_type": "code",
     "collapsed": false,
     "input": [
      "raw[u'gesmes:Envelope']"
     ],
     "language": "python",
     "metadata": {},
     "outputs": [
      {
       "metadata": {},
       "output_type": "pyout",
       "prompt_number": 6,
       "text": [
        "OrderedDict([(u'@xmlns:gesmes', u'http://www.gesmes.org/xml/2002-08-01'), (u'@xmlns', u'http://www.ecb.int/vocabulary/2002-08-01/eurofxref'), (u'gesmes:subject', u'Reference rates'), (u'gesmes:Sender', OrderedDict([(u'gesmes:name', u'European Central Bank')])), (u'Cube', OrderedDict([(u'Cube', OrderedDict([(u'@time', u'2014-11-27'), (u'Cube', [OrderedDict([(u'@currency', u'USD'), (u'@rate', u'1.2480')]), OrderedDict([(u'@currency', u'JPY'), (u'@rate', u'146.67')]), OrderedDict([(u'@currency', u'BGN'), (u'@rate', u'1.9558')]), OrderedDict([(u'@currency', u'CZK'), (u'@rate', u'27.609')]), OrderedDict([(u'@currency', u'DKK'), (u'@rate', u'7.4397')]), OrderedDict([(u'@currency', u'GBP'), (u'@rate', u'0.79200')]), OrderedDict([(u'@currency', u'HUF'), (u'@rate', u'307.14')]), OrderedDict([(u'@currency', u'LTL'), (u'@rate', u'3.4528')]), OrderedDict([(u'@currency', u'PLN'), (u'@rate', u'4.1798')]), OrderedDict([(u'@currency', u'RON'), (u'@rate', u'4.4205')]), OrderedDict([(u'@currency', u'SEK'), (u'@rate', u'9.2613')]), OrderedDict([(u'@currency', u'CHF'), (u'@rate', u'1.2022')]), OrderedDict([(u'@currency', u'NOK'), (u'@rate', u'8.5970')]), OrderedDict([(u'@currency', u'HRK'), (u'@rate', u'7.6770')]), OrderedDict([(u'@currency', u'RUB'), (u'@rate', u'58.6680')]), OrderedDict([(u'@currency', u'TRY'), (u'@rate', u'2.7664')]), OrderedDict([(u'@currency', u'AUD'), (u'@rate', u'1.4560')]), OrderedDict([(u'@currency', u'BRL'), (u'@rate', u'3.1346')]), OrderedDict([(u'@currency', u'CAD'), (u'@rate', u'1.4039')]), OrderedDict([(u'@currency', u'CNY'), (u'@rate', u'7.6610')]), OrderedDict([(u'@currency', u'HKD'), (u'@rate', u'9.6752')]), OrderedDict([(u'@currency', u'IDR'), (u'@rate', u'15184.96')]), OrderedDict([(u'@currency', u'ILS'), (u'@rate', u'4.8510')]), OrderedDict([(u'@currency', u'INR'), (u'@rate', u'77.2200')]), OrderedDict([(u'@currency', u'KRW'), (u'@rate', u'1372.39')]), OrderedDict([(u'@currency', u'MXN'), (u'@rate', u'17.1266')]), OrderedDict([(u'@currency', u'MYR'), (u'@rate', u'4.1764')]), OrderedDict([(u'@currency', u'NZD'), (u'@rate', u'1.5807')]), OrderedDict([(u'@currency', u'PHP'), (u'@rate', u'55.994')]), OrderedDict([(u'@currency', u'SGD'), (u'@rate', u'1.6202')]), OrderedDict([(u'@currency', u'THB'), (u'@rate', u'40.897')]), OrderedDict([(u'@currency', u'ZAR'), (u'@rate', u'13.6833')])])]))]))])"
       ]
      }
     ],
     "prompt_number": 6
    },
    {
     "cell_type": "markdown",
     "metadata": {},
     "source": [
      "Another map/dictionary! Hmm... The keys?"
     ]
    },
    {
     "cell_type": "code",
     "collapsed": false,
     "input": [
      "raw[u'gesmes:Envelope'].keys()"
     ],
     "language": "python",
     "metadata": {},
     "outputs": [
      {
       "metadata": {},
       "output_type": "pyout",
       "prompt_number": 7,
       "text": [
        "[u'@xmlns:gesmes', u'@xmlns', u'gesmes:subject', u'gesmes:Sender', u'Cube']"
       ]
      }
     ],
     "prompt_number": 7
    },
    {
     "cell_type": "code",
     "collapsed": false,
     "input": [
      "raw[u'gesmes:Envelope'][u'Cube'][u'Cube'][u'Cube']"
     ],
     "language": "python",
     "metadata": {},
     "outputs": [
      {
       "metadata": {},
       "output_type": "pyout",
       "prompt_number": 9,
       "text": [
        "[OrderedDict([(u'@currency', u'USD'), (u'@rate', u'1.2480')]),\n",
        " OrderedDict([(u'@currency', u'JPY'), (u'@rate', u'146.67')]),\n",
        " OrderedDict([(u'@currency', u'BGN'), (u'@rate', u'1.9558')]),\n",
        " OrderedDict([(u'@currency', u'CZK'), (u'@rate', u'27.609')]),\n",
        " OrderedDict([(u'@currency', u'DKK'), (u'@rate', u'7.4397')]),\n",
        " OrderedDict([(u'@currency', u'GBP'), (u'@rate', u'0.79200')]),\n",
        " OrderedDict([(u'@currency', u'HUF'), (u'@rate', u'307.14')]),\n",
        " OrderedDict([(u'@currency', u'LTL'), (u'@rate', u'3.4528')]),\n",
        " OrderedDict([(u'@currency', u'PLN'), (u'@rate', u'4.1798')]),\n",
        " OrderedDict([(u'@currency', u'RON'), (u'@rate', u'4.4205')]),\n",
        " OrderedDict([(u'@currency', u'SEK'), (u'@rate', u'9.2613')]),\n",
        " OrderedDict([(u'@currency', u'CHF'), (u'@rate', u'1.2022')]),\n",
        " OrderedDict([(u'@currency', u'NOK'), (u'@rate', u'8.5970')]),\n",
        " OrderedDict([(u'@currency', u'HRK'), (u'@rate', u'7.6770')]),\n",
        " OrderedDict([(u'@currency', u'RUB'), (u'@rate', u'58.6680')]),\n",
        " OrderedDict([(u'@currency', u'TRY'), (u'@rate', u'2.7664')]),\n",
        " OrderedDict([(u'@currency', u'AUD'), (u'@rate', u'1.4560')]),\n",
        " OrderedDict([(u'@currency', u'BRL'), (u'@rate', u'3.1346')]),\n",
        " OrderedDict([(u'@currency', u'CAD'), (u'@rate', u'1.4039')]),\n",
        " OrderedDict([(u'@currency', u'CNY'), (u'@rate', u'7.6610')]),\n",
        " OrderedDict([(u'@currency', u'HKD'), (u'@rate', u'9.6752')]),\n",
        " OrderedDict([(u'@currency', u'IDR'), (u'@rate', u'15184.96')]),\n",
        " OrderedDict([(u'@currency', u'ILS'), (u'@rate', u'4.8510')]),\n",
        " OrderedDict([(u'@currency', u'INR'), (u'@rate', u'77.2200')]),\n",
        " OrderedDict([(u'@currency', u'KRW'), (u'@rate', u'1372.39')]),\n",
        " OrderedDict([(u'@currency', u'MXN'), (u'@rate', u'17.1266')]),\n",
        " OrderedDict([(u'@currency', u'MYR'), (u'@rate', u'4.1764')]),\n",
        " OrderedDict([(u'@currency', u'NZD'), (u'@rate', u'1.5807')]),\n",
        " OrderedDict([(u'@currency', u'PHP'), (u'@rate', u'55.994')]),\n",
        " OrderedDict([(u'@currency', u'SGD'), (u'@rate', u'1.6202')]),\n",
        " OrderedDict([(u'@currency', u'THB'), (u'@rate', u'40.897')]),\n",
        " OrderedDict([(u'@currency', u'ZAR'), (u'@rate', u'13.6833')])]"
       ]
      }
     ],
     "prompt_number": 9
    },
    {
     "cell_type": "markdown",
     "metadata": {},
     "source": [
      "This is really stupid. The data is an array of small dictionaries each of size 1 containing the name of the currency and the rate.  We need to put the data in the correct format."
     ]
    },
    {
     "cell_type": "code",
     "collapsed": false,
     "input": [
      "stupid = raw[u'gesmes:Envelope'][u'Cube'][u'Cube'][u'Cube']\n",
      "\n",
      "Rates = { x['@currency']: float(x[u'@rate']) for x in stupid }"
     ],
     "language": "python",
     "metadata": {},
     "outputs": [],
     "prompt_number": 10
    },
    {
     "cell_type": "markdown",
     "metadata": {},
     "source": [
      "Above, I used a construction called *comprehension*. Let me explain: assume you want a range of integers for some reason.  In python you call"
     ]
    },
    {
     "cell_type": "code",
     "collapsed": false,
     "input": [
      "range(10)"
     ],
     "language": "python",
     "metadata": {},
     "outputs": [
      {
       "metadata": {},
       "output_type": "pyout",
       "prompt_number": 11,
       "text": [
        "[0, 1, 2, 3, 4, 5, 6, 7, 8, 9]"
       ]
      }
     ],
     "prompt_number": 11
    },
    {
     "cell_type": "code",
     "collapsed": false,
     "input": [
      "range(2,12)"
     ],
     "language": "python",
     "metadata": {},
     "outputs": [
      {
       "metadata": {},
       "output_type": "pyout",
       "prompt_number": 12,
       "text": [
        "[2, 3, 4, 5, 6, 7, 8, 9, 10, 11]"
       ]
      }
     ],
     "prompt_number": 12
    },
    {
     "cell_type": "code",
     "collapsed": false,
     "input": [
      "range(24,3,-2)"
     ],
     "language": "python",
     "metadata": {},
     "outputs": [
      {
       "metadata": {},
       "output_type": "pyout",
       "prompt_number": 13,
       "text": [
        "[24, 22, 20, 18, 16, 14, 12, 10, 8, 6, 4]"
       ]
      }
     ],
     "prompt_number": 13
    },
    {
     "cell_type": "markdown",
     "metadata": {},
     "source": [
      "But what if I want the squares of the even numbers between 2 and 26 stored in an array?"
     ]
    },
    {
     "cell_type": "code",
     "collapsed": false,
     "input": [
      "[x*x for x in range(2,26,2)]"
     ],
     "language": "python",
     "metadata": {},
     "outputs": [
      {
       "metadata": {},
       "output_type": "pyout",
       "prompt_number": 14,
       "text": [
        "[4, 16, 36, 64, 100, 144, 196, 256, 324, 400, 484, 576]"
       ]
      }
     ],
     "prompt_number": 14
    },
    {
     "cell_type": "markdown",
     "metadata": {},
     "source": [
      "How about stored in a set?"
     ]
    },
    {
     "cell_type": "code",
     "collapsed": false,
     "input": [
      "{x*x for x in range(2,26,2)}"
     ],
     "language": "python",
     "metadata": {},
     "outputs": [
      {
       "metadata": {},
       "output_type": "pyout",
       "prompt_number": 15,
       "text": [
        "{4, 16, 36, 64, 100, 144, 196, 256, 324, 400, 484, 576}"
       ]
      }
     ],
     "prompt_number": 15
    },
    {
     "cell_type": "markdown",
     "metadata": {},
     "source": [
      "How about a dictionary?"
     ]
    },
    {
     "cell_type": "code",
     "collapsed": false,
     "input": [
      "{ \"Index-\"+str(i): i*i for i in range(2,26,2) }"
     ],
     "language": "python",
     "metadata": {},
     "outputs": [
      {
       "metadata": {},
       "output_type": "pyout",
       "prompt_number": 16,
       "text": [
        "{'Index-10': 100,\n",
        " 'Index-12': 144,\n",
        " 'Index-14': 196,\n",
        " 'Index-16': 256,\n",
        " 'Index-18': 324,\n",
        " 'Index-2': 4,\n",
        " 'Index-20': 400,\n",
        " 'Index-22': 484,\n",
        " 'Index-24': 576,\n",
        " 'Index-4': 16,\n",
        " 'Index-6': 36,\n",
        " 'Index-8': 64}"
       ]
      }
     ],
     "prompt_number": 16
    },
    {
     "cell_type": "markdown",
     "metadata": {},
     "source": [
      "Let us check the contents of `stupid`:"
     ]
    },
    {
     "cell_type": "code",
     "collapsed": false,
     "input": [
      "stupid[1]"
     ],
     "language": "python",
     "metadata": {},
     "outputs": [
      {
       "metadata": {},
       "output_type": "pyout",
       "prompt_number": 17,
       "text": [
        "OrderedDict([(u'@currency', u'JPY'), (u'@rate', u'146.67')])"
       ]
      }
     ],
     "prompt_number": 17
    },
    {
     "cell_type": "code",
     "collapsed": false,
     "input": [
      "stupid[1][u'@currency']"
     ],
     "language": "python",
     "metadata": {},
     "outputs": [
      {
       "metadata": {},
       "output_type": "pyout",
       "prompt_number": 40,
       "text": [
        "u'JPY'"
       ]
      }
     ],
     "prompt_number": 40
    },
    {
     "cell_type": "code",
     "collapsed": false,
     "input": [
      "stupid[1][u'@rate']"
     ],
     "language": "python",
     "metadata": {},
     "outputs": [
      {
       "metadata": {},
       "output_type": "pyout",
       "prompt_number": 18,
       "text": [
        "u'146.67'"
       ]
      }
     ],
     "prompt_number": 18
    },
    {
     "cell_type": "code",
     "collapsed": false,
     "input": [
      "Rates = { x['@currency']: float(x[u'@rate']) for x in stupid }"
     ],
     "language": "python",
     "metadata": {},
     "outputs": [],
     "prompt_number": 19
    },
    {
     "cell_type": "code",
     "collapsed": false,
     "input": [
      "Rates"
     ],
     "language": "python",
     "metadata": {},
     "outputs": [
      {
       "metadata": {},
       "output_type": "pyout",
       "prompt_number": 20,
       "text": [
        "{u'AUD': 1.456,\n",
        " u'BGN': 1.9558,\n",
        " u'BRL': 3.1346,\n",
        " u'CAD': 1.4039,\n",
        " u'CHF': 1.2022,\n",
        " u'CNY': 7.661,\n",
        " u'CZK': 27.609,\n",
        " u'DKK': 7.4397,\n",
        " u'GBP': 0.792,\n",
        " u'HKD': 9.6752,\n",
        " u'HRK': 7.677,\n",
        " u'HUF': 307.14,\n",
        " u'IDR': 15184.96,\n",
        " u'ILS': 4.851,\n",
        " u'INR': 77.22,\n",
        " u'JPY': 146.67,\n",
        " u'KRW': 1372.39,\n",
        " u'LTL': 3.4528,\n",
        " u'MXN': 17.1266,\n",
        " u'MYR': 4.1764,\n",
        " u'NOK': 8.597,\n",
        " u'NZD': 1.5807,\n",
        " u'PHP': 55.994,\n",
        " u'PLN': 4.1798,\n",
        " u'RON': 4.4205,\n",
        " u'RUB': 58.668,\n",
        " u'SEK': 9.2613,\n",
        " u'SGD': 1.6202,\n",
        " u'THB': 40.897,\n",
        " u'TRY': 2.7664,\n",
        " u'USD': 1.248,\n",
        " u'ZAR': 13.6833}"
       ]
      }
     ],
     "prompt_number": 20
    },
    {
     "cell_type": "markdown",
     "metadata": {},
     "source": [
      "Notice that \"EUR\" is missing since this is a data from European Central Banks, the rates are all relative to \"EUR\". We add that extra:"
     ]
    },
    {
     "cell_type": "code",
     "collapsed": false,
     "input": [
      "Rates.update({u'EUR': 1.00})"
     ],
     "language": "python",
     "metadata": {},
     "outputs": [],
     "prompt_number": 21
    },
    {
     "cell_type": "code",
     "collapsed": false,
     "input": [
      "Rates"
     ],
     "language": "python",
     "metadata": {},
     "outputs": [
      {
       "metadata": {},
       "output_type": "pyout",
       "prompt_number": 22,
       "text": [
        "{u'AUD': 1.456,\n",
        " u'BGN': 1.9558,\n",
        " u'BRL': 3.1346,\n",
        " u'CAD': 1.4039,\n",
        " u'CHF': 1.2022,\n",
        " u'CNY': 7.661,\n",
        " u'CZK': 27.609,\n",
        " u'DKK': 7.4397,\n",
        " u'EUR': 1.0,\n",
        " u'GBP': 0.792,\n",
        " u'HKD': 9.6752,\n",
        " u'HRK': 7.677,\n",
        " u'HUF': 307.14,\n",
        " u'IDR': 15184.96,\n",
        " u'ILS': 4.851,\n",
        " u'INR': 77.22,\n",
        " u'JPY': 146.67,\n",
        " u'KRW': 1372.39,\n",
        " u'LTL': 3.4528,\n",
        " u'MXN': 17.1266,\n",
        " u'MYR': 4.1764,\n",
        " u'NOK': 8.597,\n",
        " u'NZD': 1.5807,\n",
        " u'PHP': 55.994,\n",
        " u'PLN': 4.1798,\n",
        " u'RON': 4.4205,\n",
        " u'RUB': 58.668,\n",
        " u'SEK': 9.2613,\n",
        " u'SGD': 1.6202,\n",
        " u'THB': 40.897,\n",
        " u'TRY': 2.7664,\n",
        " u'USD': 1.248,\n",
        " u'ZAR': 13.6833}"
       ]
      }
     ],
     "prompt_number": 22
    },
    {
     "cell_type": "markdown",
     "metadata": {},
     "source": [
      "Now, let us recall our program:"
     ]
    },
    {
     "cell_type": "code",
     "collapsed": false,
     "input": [
      "def Exchange(amount, source, target):\n",
      "    return(amount * Rates[target]/Rates[source])\n",
      "\n",
      "print(Exchange(100.0, \"TRY\", u'EUR'))"
     ],
     "language": "python",
     "metadata": {},
     "outputs": [
      {
       "output_type": "stream",
       "stream": "stdout",
       "text": [
        "36.1480624639\n"
       ]
      }
     ],
     "prompt_number": 23
    },
    {
     "cell_type": "markdown",
     "metadata": {},
     "source": [
      "Let me write a new function that updates the exchange rate dictionary:"
     ]
    },
    {
     "cell_type": "code",
     "collapsed": false,
     "input": [
      "def UpdateRates():\n",
      "    raw = xmltodict.parse(urllib.urlopen(\"http://www.ecb.europa.eu/stats/eurofxref/eurofxref-daily.xml\"))\n",
      "    core = raw[u'gesmes:Envelope'][u'Cube'][u'Cube'][u'Cube']\n",
      "    Rates = { x['@currency']: float(x[u'@rate']) for x in core }"
     ],
     "language": "python",
     "metadata": {},
     "outputs": [],
     "prompt_number": 24
    },
    {
     "cell_type": "markdown",
     "metadata": {},
     "source": [
      "## A Finished Version\n",
      "\n",
      "I prefer to interact with my program on the command line.  So, I will everything together as follows:\n",
      "\n",
      "    ## Back End\n",
      "\n",
      "    import urllib\n",
      "    import xmltodict\n",
      "\n",
      "    URL = \"http://www.ecb.europa.eu/stats/eurofxref/eurofxref-daily.xml\"\n",
      "\n",
      "    def DownloadRates(localFile):\n",
      "      urllib.urlretrieve(URL, filename=localFile)\n",
      "\n",
      "    def GetRates(localFile):\n",
      "      raw = xmltodict.parse(open(localFile))\n",
      "      core = raw[u'gesmes:Envelope'][u'Cube'][u'Cube'][u'Cube']\n",
      "      Rates = { x['@currency']: float(x[u'@rate']) for x in core }\n",
      "      Rates.update({u'EUR': 1.00})\n",
      "      return(Rates)\n",
      "\n",
      "    def Exchange(Rates,amount,source,target):\n",
      "      return(amount * Rates[target]/Rates[source])\n",
      "\n",
      "\n",
      "    ## Front End\n",
      "\n",
      "    import sys\n",
      "\n",
      "    FILE = \"/home/kaygun/local/lib/rates.xml\"\n",
      "\n",
      "    if(sys.argv[1] == \"refresh\"):\n",
      "      DownloadRates(FILE)\n",
      "    elif(sys.argv[1] == \"list\"):\n",
      "      Rates = GetRates(FILE)\n",
      "      Currencies = Rates.keys()\n",
      "      Currencies.sort()\n",
      "      for x in Currencies:\n",
      "        print x, Rates[x]\n",
      "    else:\n",
      "      Rates = GetRates(FILE)\n",
      "      amount = float(sys.argv[1])\n",
      "      source = sys.argv[2]\n",
      "      target = sys.argv[3]\n",
      "      print str(amount), source, \"is\", \"{0:.2f}\".format(Exchange(Rates,amount,source,target)), target\n"
     ]
    }
   ],
   "metadata": {}
  }
 ]
}